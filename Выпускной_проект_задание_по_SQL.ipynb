{
 "cells": [
  {
   "cell_type": "markdown",
   "id": "8d84165b",
   "metadata": {},
   "source": [
    "<div style=\"border:solid Chocolate 2px; padding: 40px\">\n",
    "\n",
    "<b> Игорь, привет!👋</b>\n",
    "\n",
    "Меня зовут Алексей Гриб, я буду твоим ментором на протяжении финального спринта:)\n",
    "    \n",
    "Сразу хочу предложить в дальнейшем общаться на \"ты\" - надеюсь, так будет комфортнее:) Но если это неудобно, обязательно дай знать, и мы придумаем что-нибудь ещё!\n",
    "    \n",
    "Цель нашей работы - не искать ошибки в твоём проекте, а помочь тебе сделать его ещё лучше, устранив недочёты и приблизив его к реальным задачам аналитика. Поэтому не расстраивайся, если что-то не получилось с первого раза - это нормально, и это поможет тебе вырасти!\n",
    "    \n",
    "Ты можешь найти мои комментарии, обозначенные <font color='green'>зеленым</font>, <font color='gold'>желтым</font> и <font color='red'>красным</font> цветами, например:\n",
    "\n",
    "<br/>\n",
    "\n",
    "<div class=\"alert alert-success\">\n",
    "<h2> Комментарий ментора <a class=\"tocSkip\"> </h2>\n",
    "\n",
    "<b>Все отлично!👍:</b> похвала, рекомендации «со звёздочкой», полезные лайфхаки, которые сделают и без того красивое решение ещё более элегантным.\n",
    "</div>\n",
    "\n",
    "<br/>\n",
    "\n",
    "<div class=\"alert alert-warning\">\n",
    "    <h2> Комментарий ментороа <a class=\"tocSkip\"> </h2>\n",
    "    \n",
    "<b>Некоторые замечания и рекомендации⚠️:</b> некритичные ошибки или развивающие рекомендации на будущее. \n",
    "</div>\n",
    "\n",
    "\n",
    "<br/>\n",
    "<div class=\"alert alert-block alert-danger\">\n",
    "<h2> Комментарий ментора <a class=\"tocSkip\"></h2>\n",
    "\n",
    "    \n",
    "<b>На доработку❌:</b>\n",
    "критичные ошибки, которые обязательно нужно исправить.\n",
    "</div>\n",
    "\n",
    "Я не смогу принять проект, если в нём будет хотя бы одна критичная ошибка или несколько некритичных ошибок - тогда проект нужно будет немного доработать. Но это нестрашно - я обязательно дам тебе подсказку или укажу верное направление.\n",
    "    \n",
    "Пожалуйста, не удаляй мои комментарии, они будут особенно полезны для нашей работы в случае повторной проверки проекта. \n",
    "    \n",
    "Ты также можешь задавать свои вопросы, реагировать на мои комментарии, делать пометки и пояснения - полная творческая свобода! Но маленькая просьба - пускай они будут отличаться от моих комментариев, это поможет избежать путаницы в нашем общении:)\n",
    "Например, вот так:\n",
    "    \n",
    "<div class=\"alert alert-info\">\n",
    "<h2> Комментарий студента <a class=\"tocSkip\"> </h2>\n",
    "\n",
    "*твой текст*\n",
    "</div>\n",
    "    \n",
    "Давай посмотрим на твой проект!"
   ]
  },
  {
   "cell_type": "markdown",
   "id": "399bc2d4-e63d-46e5-9d4d-4cb403ff33d0",
   "metadata": {},
   "source": [
    "# ВКР. Задание по SQL (студент потока da_90 Гудилин Игорь)."
   ]
  },
  {
   "cell_type": "markdown",
   "id": "2aa92c32-0b01-42c5-bfbe-9175deefbc6c",
   "metadata": {},
   "source": [
    "# 1. Постановка задачи"
   ]
  },
  {
   "cell_type": "markdown",
   "id": "20ad37ba-3326-4419-97a7-b27eed9d75d7",
   "metadata": {},
   "source": [
    "## 1.1 Описание проекта"
   ]
  },
  {
   "cell_type": "markdown",
   "id": "a616bb1c-45dd-42e3-ae03-cf6f2ea12c08",
   "metadata": {},
   "source": [
    "Коронавирус застал мир врасплох, изменив привычный порядок вещей. В свободное время жители городов больше не выходят на улицу, не посещают кафе и торговые центры. Зато стало больше времени для книг. Это заметили стартаперы — и бросились создавать приложения для тех, кто любит читать. <br>\n",
    "Ваша компания решила быть на волне и купила крупный сервис для чтения книг по подписке. Ваша первая задача как аналитика — проанализировать базу данных. В ней — информация о книгах, издательствах, авторах, а также пользовательские обзоры книг. Эти данные помогут сформулировать ценностное предложение для нового продукта."
   ]
  },
  {
   "cell_type": "markdown",
   "id": "256d2566-9278-4b8e-8dc8-2f22b5d17167",
   "metadata": {},
   "source": [
    "## 1.2 Этапы исследования"
   ]
  },
  {
   "cell_type": "markdown",
   "id": "19238ad2-25fc-4b38-a5ee-3155af8afb54",
   "metadata": {},
   "source": [
    "1) Расчет количества книг, которое вышло после 1 января 2000 года;\n",
    "2) Расчет количества обзоров и средней оценки для каждой книги;\n",
    "3) Определение издательства, которое выпустило наибольшее число книг толще 50 страниц (для исключения брошюр);\n",
    "4) Определение автора с самой высокой средней оценкой книг, при этом необходимо учитывать только книги с 50 и более оценками;\n",
    "5) Расчет среднего количества обзоров от пользователей, которые поставили болше 48 оценок."
   ]
  },
  {
   "cell_type": "markdown",
   "id": "c789808f-e6f1-491c-b2d9-a468e20430bd",
   "metadata": {},
   "source": [
    "## 1.3 Описание данных"
   ]
  },
  {
   "cell_type": "markdown",
   "id": "6e5a5b13-9554-4b13-8e68-58603d749f8e",
   "metadata": {},
   "source": [
    "* Таблица `books` (***содержит данные о книгах***):\n",
    "    - `book_id` — идентификатор книги;\n",
    "    - `author_id` — идентификатор автора;\n",
    "    - `title` — название книги;\n",
    "    - `num_pages` — количество страниц;\n",
    "    - `publication_date` — дата публикации книги;\n",
    "    - `publisher_id` — идентификатор издателя. <br>\n",
    "<br>\n",
    "* Таблица `authors` (***содержит данные об авторах***):\n",
    "    - `author_id` — идентификатор автора;\n",
    "    - `author` — имя автора. <br>\n",
    "<br>\n",
    "* Таблица `publishers` (***содержит данные об издательствах***):\n",
    "    - `publisher_id` — идентификатор издательства;\n",
    "    - `publisher` — название издательства. <br>\n",
    "<br>\n",
    "* Таблица `ratings` (***cодержит данные о пользовательских оценках книг***):\n",
    "    - `rating_id` — идентификатор оценки;\n",
    "    - `book_id` — идентификатор книги;\n",
    "    - `username` — имя пользователя, оставившего оценку;\n",
    "    - `rating` — оценка книги. <br>\n",
    "<br>\n",
    "* Таблица `reviews` (***cодержит данные о пользовательских обзорах на книги***):\n",
    "    - `review_id` — идентификатор обзора;\n",
    "    - `book_id` — идентификатор книги;\n",
    "    - `username` — имя пользователя, написавшего обзор;\n",
    "    - `text` — текст обзора."
   ]
  },
  {
   "cell_type": "markdown",
   "id": "3f2912c4",
   "metadata": {},
   "source": [
    "<div class=\"alert alert-success\">\n",
    "<h2> Комментарий ментора <a class=\"tocSkip\"> </h2>\n",
    "\n",
    "<b>Все отлично!👍:</b> Хорошее вступление!\n",
    "    \n",
    "В нём есть всё, что необходимо, чтобы понять суть проекта с первых строк отчёта!"
   ]
  },
  {
   "cell_type": "markdown",
   "id": "54155fc2-d918-4330-ae7a-1904a63caa9e",
   "metadata": {},
   "source": [
    "# 2. Импорт библиотек"
   ]
  },
  {
   "cell_type": "code",
   "execution_count": 1,
   "id": "1808e976-879d-47a6-84bd-78098dbf5334",
   "metadata": {},
   "outputs": [],
   "source": [
    "import pandas as pd\n",
    "import sqlalchemy as sa"
   ]
  },
  {
   "cell_type": "markdown",
   "id": "45b4a976-a188-4274-882a-ee744fcdccb6",
   "metadata": {},
   "source": [
    "# 3. Установка параметров"
   ]
  },
  {
   "cell_type": "code",
   "execution_count": 2,
   "id": "50625304-1db5-4be7-9bcb-73ef696144f3",
   "metadata": {},
   "outputs": [],
   "source": [
    "db_config = {\n",
    "            'user': 'praktikum_student', # имя пользователя\n",
    "            'pwd': 'Sdf4$2;d-d30pp', # пароль\n",
    "            'host': 'rc1b-wcoijxj3yxfsf3fs.mdb.yandexcloud.net',\n",
    "            'port': 6432, # порт подключения\n",
    "            'db': 'data-analyst-final-project-db' # название базы данных\n",
    "            }\n",
    "connection_string = 'postgresql://{user}:{pwd}@{host}:{port}/{db}'.format(**db_config)\n",
    "\n",
    "# сохраняем коннектор\n",
    "engine = sa.create_engine(connection_string, connect_args={'sslmode':'require'})\n",
    "\n",
    "# чтобы выполнить SQL-запрос, пишем функцию с использованием Pandas\n",
    "def get_sql_data(query:str, engine:sa.engine.base.Engine=engine) -> pd.DataFrame:\n",
    "    '''Открываем соединение, получаем данные из sql, закрываем соединение'''\n",
    "    with engine.connect() as con:\n",
    "        return pd.read_sql(sql=sa.text(query), con=con)"
   ]
  },
  {
   "cell_type": "markdown",
   "id": "164549b0",
   "metadata": {},
   "source": [
    "<div class=\"alert alert-success\">\n",
    "<h2> Комментарий ментора <a class=\"tocSkip\"> </h2>\n",
    "\n",
    "<b>Все отлично!👍:</b> Библиотеки импортировали, коннектор сделали - отлично!"
   ]
  },
  {
   "cell_type": "markdown",
   "id": "dee3c4fb-cbde-4511-aba6-47f780a3bc33",
   "metadata": {},
   "source": [
    "# 4. Исследование"
   ]
  },
  {
   "cell_type": "markdown",
   "id": "ea3461a6-3b92-40f3-a8a7-e803f8500675",
   "metadata": {},
   "source": [
    "## 4.1 Исследование таблиц"
   ]
  },
  {
   "cell_type": "markdown",
   "id": "aaffd3e6-2b6d-4588-8aff-d0477fbbb503",
   "metadata": {},
   "source": [
    "### 1. Таблица `books`"
   ]
  },
  {
   "cell_type": "code",
   "execution_count": 3,
   "id": "b6c82a71-28ff-4d9a-8d75-31828eefdbf8",
   "metadata": {},
   "outputs": [
    {
     "data": {
      "text/html": [
       "<div>\n",
       "<style scoped>\n",
       "    .dataframe tbody tr th:only-of-type {\n",
       "        vertical-align: middle;\n",
       "    }\n",
       "\n",
       "    .dataframe tbody tr th {\n",
       "        vertical-align: top;\n",
       "    }\n",
       "\n",
       "    .dataframe thead th {\n",
       "        text-align: right;\n",
       "    }\n",
       "</style>\n",
       "<table border=\"1\" class=\"dataframe\">\n",
       "  <thead>\n",
       "    <tr style=\"text-align: right;\">\n",
       "      <th></th>\n",
       "      <th>book_id</th>\n",
       "      <th>author_id</th>\n",
       "      <th>title</th>\n",
       "      <th>num_pages</th>\n",
       "      <th>publication_date</th>\n",
       "      <th>publisher_id</th>\n",
       "    </tr>\n",
       "  </thead>\n",
       "  <tbody>\n",
       "    <tr>\n",
       "      <th>0</th>\n",
       "      <td>1</td>\n",
       "      <td>546</td>\n",
       "      <td>'Salem's Lot</td>\n",
       "      <td>594</td>\n",
       "      <td>2005-11-01</td>\n",
       "      <td>93</td>\n",
       "    </tr>\n",
       "    <tr>\n",
       "      <th>1</th>\n",
       "      <td>2</td>\n",
       "      <td>465</td>\n",
       "      <td>1 000 Places to See Before You Die</td>\n",
       "      <td>992</td>\n",
       "      <td>2003-05-22</td>\n",
       "      <td>336</td>\n",
       "    </tr>\n",
       "    <tr>\n",
       "      <th>2</th>\n",
       "      <td>3</td>\n",
       "      <td>407</td>\n",
       "      <td>13 Little Blue Envelopes (Little Blue Envelope...</td>\n",
       "      <td>322</td>\n",
       "      <td>2010-12-21</td>\n",
       "      <td>135</td>\n",
       "    </tr>\n",
       "    <tr>\n",
       "      <th>3</th>\n",
       "      <td>4</td>\n",
       "      <td>82</td>\n",
       "      <td>1491: New Revelations of the Americas Before C...</td>\n",
       "      <td>541</td>\n",
       "      <td>2006-10-10</td>\n",
       "      <td>309</td>\n",
       "    </tr>\n",
       "    <tr>\n",
       "      <th>4</th>\n",
       "      <td>5</td>\n",
       "      <td>125</td>\n",
       "      <td>1776</td>\n",
       "      <td>386</td>\n",
       "      <td>2006-07-04</td>\n",
       "      <td>268</td>\n",
       "    </tr>\n",
       "  </tbody>\n",
       "</table>\n",
       "</div>"
      ],
      "text/plain": [
       "   book_id  author_id                                              title  \\\n",
       "0        1        546                                       'Salem's Lot   \n",
       "1        2        465                 1 000 Places to See Before You Die   \n",
       "2        3        407  13 Little Blue Envelopes (Little Blue Envelope...   \n",
       "3        4         82  1491: New Revelations of the Americas Before C...   \n",
       "4        5        125                                               1776   \n",
       "\n",
       "   num_pages publication_date  publisher_id  \n",
       "0        594       2005-11-01            93  \n",
       "1        992       2003-05-22           336  \n",
       "2        322       2010-12-21           135  \n",
       "3        541       2006-10-10           309  \n",
       "4        386       2006-07-04           268  "
      ]
     },
     "execution_count": 3,
     "metadata": {},
     "output_type": "execute_result"
    }
   ],
   "source": [
    "# выводим первые строки таблицы books\n",
    "query = '''\n",
    "SELECT * FROM books LIMIT 5\n",
    "'''\n",
    "get_sql_data(query)"
   ]
  },
  {
   "cell_type": "code",
   "execution_count": 4,
   "id": "b1037ba0-04e5-488f-93ed-45eb5bde5c01",
   "metadata": {},
   "outputs": [
    {
     "data": {
      "text/html": [
       "<div>\n",
       "<style scoped>\n",
       "    .dataframe tbody tr th:only-of-type {\n",
       "        vertical-align: middle;\n",
       "    }\n",
       "\n",
       "    .dataframe tbody tr th {\n",
       "        vertical-align: top;\n",
       "    }\n",
       "\n",
       "    .dataframe thead th {\n",
       "        text-align: right;\n",
       "    }\n",
       "</style>\n",
       "<table border=\"1\" class=\"dataframe\">\n",
       "  <thead>\n",
       "    <tr style=\"text-align: right;\">\n",
       "      <th></th>\n",
       "      <th>count</th>\n",
       "    </tr>\n",
       "  </thead>\n",
       "  <tbody>\n",
       "    <tr>\n",
       "      <th>0</th>\n",
       "      <td>1000</td>\n",
       "    </tr>\n",
       "  </tbody>\n",
       "</table>\n",
       "</div>"
      ],
      "text/plain": [
       "   count\n",
       "0   1000"
      ]
     },
     "execution_count": 4,
     "metadata": {},
     "output_type": "execute_result"
    }
   ],
   "source": [
    "# считаем количество строк в таблице books\n",
    "query = '''\n",
    "SELECT COUNT (*) \n",
    "FROM books\n",
    "'''\n",
    "get_sql_data(query)"
   ]
  },
  {
   "cell_type": "markdown",
   "id": "c039f76a-c0e0-4c68-aaf3-21fb89bd4be6",
   "metadata": {},
   "source": [
    "### 2. Таблица `authors`"
   ]
  },
  {
   "cell_type": "code",
   "execution_count": 5,
   "id": "e863c4fc-981b-4b9a-8814-f51106ebe23c",
   "metadata": {},
   "outputs": [
    {
     "data": {
      "text/html": [
       "<div>\n",
       "<style scoped>\n",
       "    .dataframe tbody tr th:only-of-type {\n",
       "        vertical-align: middle;\n",
       "    }\n",
       "\n",
       "    .dataframe tbody tr th {\n",
       "        vertical-align: top;\n",
       "    }\n",
       "\n",
       "    .dataframe thead th {\n",
       "        text-align: right;\n",
       "    }\n",
       "</style>\n",
       "<table border=\"1\" class=\"dataframe\">\n",
       "  <thead>\n",
       "    <tr style=\"text-align: right;\">\n",
       "      <th></th>\n",
       "      <th>author_id</th>\n",
       "      <th>author</th>\n",
       "    </tr>\n",
       "  </thead>\n",
       "  <tbody>\n",
       "    <tr>\n",
       "      <th>0</th>\n",
       "      <td>1</td>\n",
       "      <td>A.S. Byatt</td>\n",
       "    </tr>\n",
       "    <tr>\n",
       "      <th>1</th>\n",
       "      <td>2</td>\n",
       "      <td>Aesop/Laura Harris/Laura Gibbs</td>\n",
       "    </tr>\n",
       "    <tr>\n",
       "      <th>2</th>\n",
       "      <td>3</td>\n",
       "      <td>Agatha Christie</td>\n",
       "    </tr>\n",
       "    <tr>\n",
       "      <th>3</th>\n",
       "      <td>4</td>\n",
       "      <td>Alan Brennert</td>\n",
       "    </tr>\n",
       "    <tr>\n",
       "      <th>4</th>\n",
       "      <td>5</td>\n",
       "      <td>Alan Moore/David   Lloyd</td>\n",
       "    </tr>\n",
       "  </tbody>\n",
       "</table>\n",
       "</div>"
      ],
      "text/plain": [
       "   author_id                          author\n",
       "0          1                      A.S. Byatt\n",
       "1          2  Aesop/Laura Harris/Laura Gibbs\n",
       "2          3                 Agatha Christie\n",
       "3          4                   Alan Brennert\n",
       "4          5        Alan Moore/David   Lloyd"
      ]
     },
     "execution_count": 5,
     "metadata": {},
     "output_type": "execute_result"
    }
   ],
   "source": [
    "# выводим первые строки таблицы authors\n",
    "query = '''\n",
    "SELECT * FROM authors LIMIT 5\n",
    "'''\n",
    "get_sql_data(query)"
   ]
  },
  {
   "cell_type": "code",
   "execution_count": 6,
   "id": "952894da-505e-4b19-a5fa-45790eda4e4a",
   "metadata": {},
   "outputs": [
    {
     "data": {
      "text/html": [
       "<div>\n",
       "<style scoped>\n",
       "    .dataframe tbody tr th:only-of-type {\n",
       "        vertical-align: middle;\n",
       "    }\n",
       "\n",
       "    .dataframe tbody tr th {\n",
       "        vertical-align: top;\n",
       "    }\n",
       "\n",
       "    .dataframe thead th {\n",
       "        text-align: right;\n",
       "    }\n",
       "</style>\n",
       "<table border=\"1\" class=\"dataframe\">\n",
       "  <thead>\n",
       "    <tr style=\"text-align: right;\">\n",
       "      <th></th>\n",
       "      <th>count</th>\n",
       "    </tr>\n",
       "  </thead>\n",
       "  <tbody>\n",
       "    <tr>\n",
       "      <th>0</th>\n",
       "      <td>636</td>\n",
       "    </tr>\n",
       "  </tbody>\n",
       "</table>\n",
       "</div>"
      ],
      "text/plain": [
       "   count\n",
       "0    636"
      ]
     },
     "execution_count": 6,
     "metadata": {},
     "output_type": "execute_result"
    }
   ],
   "source": [
    "# считаем количество строк в таблице authors\n",
    "query = '''\n",
    "SELECT COUNT (*) \n",
    "FROM authors\n",
    "'''\n",
    "get_sql_data(query)"
   ]
  },
  {
   "cell_type": "markdown",
   "id": "721f6922-a7e5-4027-8f8b-432d76dd7446",
   "metadata": {},
   "source": [
    "### 3. Таблица `publishers`"
   ]
  },
  {
   "cell_type": "code",
   "execution_count": 7,
   "id": "f68e7786-fd8a-4b7f-866f-8a09c74e6316",
   "metadata": {},
   "outputs": [
    {
     "data": {
      "text/html": [
       "<div>\n",
       "<style scoped>\n",
       "    .dataframe tbody tr th:only-of-type {\n",
       "        vertical-align: middle;\n",
       "    }\n",
       "\n",
       "    .dataframe tbody tr th {\n",
       "        vertical-align: top;\n",
       "    }\n",
       "\n",
       "    .dataframe thead th {\n",
       "        text-align: right;\n",
       "    }\n",
       "</style>\n",
       "<table border=\"1\" class=\"dataframe\">\n",
       "  <thead>\n",
       "    <tr style=\"text-align: right;\">\n",
       "      <th></th>\n",
       "      <th>publisher_id</th>\n",
       "      <th>publisher</th>\n",
       "    </tr>\n",
       "  </thead>\n",
       "  <tbody>\n",
       "    <tr>\n",
       "      <th>0</th>\n",
       "      <td>1</td>\n",
       "      <td>Ace</td>\n",
       "    </tr>\n",
       "    <tr>\n",
       "      <th>1</th>\n",
       "      <td>2</td>\n",
       "      <td>Ace Book</td>\n",
       "    </tr>\n",
       "    <tr>\n",
       "      <th>2</th>\n",
       "      <td>3</td>\n",
       "      <td>Ace Books</td>\n",
       "    </tr>\n",
       "    <tr>\n",
       "      <th>3</th>\n",
       "      <td>4</td>\n",
       "      <td>Ace Hardcover</td>\n",
       "    </tr>\n",
       "    <tr>\n",
       "      <th>4</th>\n",
       "      <td>5</td>\n",
       "      <td>Addison Wesley Publishing Company</td>\n",
       "    </tr>\n",
       "  </tbody>\n",
       "</table>\n",
       "</div>"
      ],
      "text/plain": [
       "   publisher_id                          publisher\n",
       "0             1                                Ace\n",
       "1             2                           Ace Book\n",
       "2             3                          Ace Books\n",
       "3             4                      Ace Hardcover\n",
       "4             5  Addison Wesley Publishing Company"
      ]
     },
     "execution_count": 7,
     "metadata": {},
     "output_type": "execute_result"
    }
   ],
   "source": [
    "# выводим первые строки таблицы publishers\n",
    "query = '''\n",
    "SELECT * FROM publishers LIMIT 5\n",
    "'''\n",
    "get_sql_data(query)"
   ]
  },
  {
   "cell_type": "code",
   "execution_count": 8,
   "id": "9d9ce637-55ed-4fa4-8316-258305050ab2",
   "metadata": {},
   "outputs": [
    {
     "data": {
      "text/html": [
       "<div>\n",
       "<style scoped>\n",
       "    .dataframe tbody tr th:only-of-type {\n",
       "        vertical-align: middle;\n",
       "    }\n",
       "\n",
       "    .dataframe tbody tr th {\n",
       "        vertical-align: top;\n",
       "    }\n",
       "\n",
       "    .dataframe thead th {\n",
       "        text-align: right;\n",
       "    }\n",
       "</style>\n",
       "<table border=\"1\" class=\"dataframe\">\n",
       "  <thead>\n",
       "    <tr style=\"text-align: right;\">\n",
       "      <th></th>\n",
       "      <th>count</th>\n",
       "    </tr>\n",
       "  </thead>\n",
       "  <tbody>\n",
       "    <tr>\n",
       "      <th>0</th>\n",
       "      <td>340</td>\n",
       "    </tr>\n",
       "  </tbody>\n",
       "</table>\n",
       "</div>"
      ],
      "text/plain": [
       "   count\n",
       "0    340"
      ]
     },
     "execution_count": 8,
     "metadata": {},
     "output_type": "execute_result"
    }
   ],
   "source": [
    "# считаем количество строк в таблице publishers\n",
    "query = '''\n",
    "SELECT COUNT (*) \n",
    "FROM publishers\n",
    "'''\n",
    "get_sql_data(query)"
   ]
  },
  {
   "cell_type": "markdown",
   "id": "35f7d2dd-e0fc-4d9f-8fdf-d1011e547afc",
   "metadata": {},
   "source": [
    "### 4. Таблица `ratings`"
   ]
  },
  {
   "cell_type": "code",
   "execution_count": 9,
   "id": "5ece06b4-148c-4250-826e-5658ad74af99",
   "metadata": {},
   "outputs": [
    {
     "data": {
      "text/html": [
       "<div>\n",
       "<style scoped>\n",
       "    .dataframe tbody tr th:only-of-type {\n",
       "        vertical-align: middle;\n",
       "    }\n",
       "\n",
       "    .dataframe tbody tr th {\n",
       "        vertical-align: top;\n",
       "    }\n",
       "\n",
       "    .dataframe thead th {\n",
       "        text-align: right;\n",
       "    }\n",
       "</style>\n",
       "<table border=\"1\" class=\"dataframe\">\n",
       "  <thead>\n",
       "    <tr style=\"text-align: right;\">\n",
       "      <th></th>\n",
       "      <th>rating_id</th>\n",
       "      <th>book_id</th>\n",
       "      <th>username</th>\n",
       "      <th>rating</th>\n",
       "    </tr>\n",
       "  </thead>\n",
       "  <tbody>\n",
       "    <tr>\n",
       "      <th>0</th>\n",
       "      <td>1</td>\n",
       "      <td>1</td>\n",
       "      <td>ryanfranco</td>\n",
       "      <td>4</td>\n",
       "    </tr>\n",
       "    <tr>\n",
       "      <th>1</th>\n",
       "      <td>2</td>\n",
       "      <td>1</td>\n",
       "      <td>grantpatricia</td>\n",
       "      <td>2</td>\n",
       "    </tr>\n",
       "    <tr>\n",
       "      <th>2</th>\n",
       "      <td>3</td>\n",
       "      <td>1</td>\n",
       "      <td>brandtandrea</td>\n",
       "      <td>5</td>\n",
       "    </tr>\n",
       "    <tr>\n",
       "      <th>3</th>\n",
       "      <td>4</td>\n",
       "      <td>2</td>\n",
       "      <td>lorichen</td>\n",
       "      <td>3</td>\n",
       "    </tr>\n",
       "    <tr>\n",
       "      <th>4</th>\n",
       "      <td>5</td>\n",
       "      <td>2</td>\n",
       "      <td>mariokeller</td>\n",
       "      <td>2</td>\n",
       "    </tr>\n",
       "  </tbody>\n",
       "</table>\n",
       "</div>"
      ],
      "text/plain": [
       "   rating_id  book_id       username  rating\n",
       "0          1        1     ryanfranco       4\n",
       "1          2        1  grantpatricia       2\n",
       "2          3        1   brandtandrea       5\n",
       "3          4        2       lorichen       3\n",
       "4          5        2    mariokeller       2"
      ]
     },
     "execution_count": 9,
     "metadata": {},
     "output_type": "execute_result"
    }
   ],
   "source": [
    "# выводим первые строки таблицы ratings\n",
    "query = '''\n",
    "SELECT * FROM ratings LIMIT 5\n",
    "'''\n",
    "get_sql_data(query)"
   ]
  },
  {
   "cell_type": "code",
   "execution_count": 10,
   "id": "689cafaa-18bc-42f6-94b2-fc88be49bd74",
   "metadata": {},
   "outputs": [
    {
     "data": {
      "text/html": [
       "<div>\n",
       "<style scoped>\n",
       "    .dataframe tbody tr th:only-of-type {\n",
       "        vertical-align: middle;\n",
       "    }\n",
       "\n",
       "    .dataframe tbody tr th {\n",
       "        vertical-align: top;\n",
       "    }\n",
       "\n",
       "    .dataframe thead th {\n",
       "        text-align: right;\n",
       "    }\n",
       "</style>\n",
       "<table border=\"1\" class=\"dataframe\">\n",
       "  <thead>\n",
       "    <tr style=\"text-align: right;\">\n",
       "      <th></th>\n",
       "      <th>count</th>\n",
       "    </tr>\n",
       "  </thead>\n",
       "  <tbody>\n",
       "    <tr>\n",
       "      <th>0</th>\n",
       "      <td>6456</td>\n",
       "    </tr>\n",
       "  </tbody>\n",
       "</table>\n",
       "</div>"
      ],
      "text/plain": [
       "   count\n",
       "0   6456"
      ]
     },
     "execution_count": 10,
     "metadata": {},
     "output_type": "execute_result"
    }
   ],
   "source": [
    "# считаем количество строк в таблице ratings\n",
    "query = '''\n",
    "SELECT COUNT (*) \n",
    "FROM ratings\n",
    "'''\n",
    "get_sql_data(query)"
   ]
  },
  {
   "cell_type": "markdown",
   "id": "53cae60f-cafd-4cf2-b3f6-94c78b5e0498",
   "metadata": {},
   "source": [
    "### 5. Таблица `reviews`"
   ]
  },
  {
   "cell_type": "code",
   "execution_count": 11,
   "id": "0572aaff-317f-45fb-977e-d8cf12b40a95",
   "metadata": {},
   "outputs": [
    {
     "data": {
      "text/html": [
       "<div>\n",
       "<style scoped>\n",
       "    .dataframe tbody tr th:only-of-type {\n",
       "        vertical-align: middle;\n",
       "    }\n",
       "\n",
       "    .dataframe tbody tr th {\n",
       "        vertical-align: top;\n",
       "    }\n",
       "\n",
       "    .dataframe thead th {\n",
       "        text-align: right;\n",
       "    }\n",
       "</style>\n",
       "<table border=\"1\" class=\"dataframe\">\n",
       "  <thead>\n",
       "    <tr style=\"text-align: right;\">\n",
       "      <th></th>\n",
       "      <th>review_id</th>\n",
       "      <th>book_id</th>\n",
       "      <th>username</th>\n",
       "      <th>text</th>\n",
       "    </tr>\n",
       "  </thead>\n",
       "  <tbody>\n",
       "    <tr>\n",
       "      <th>0</th>\n",
       "      <td>1</td>\n",
       "      <td>1</td>\n",
       "      <td>brandtandrea</td>\n",
       "      <td>Mention society tell send professor analysis. ...</td>\n",
       "    </tr>\n",
       "    <tr>\n",
       "      <th>1</th>\n",
       "      <td>2</td>\n",
       "      <td>1</td>\n",
       "      <td>ryanfranco</td>\n",
       "      <td>Foot glass pretty audience hit themselves. Amo...</td>\n",
       "    </tr>\n",
       "    <tr>\n",
       "      <th>2</th>\n",
       "      <td>3</td>\n",
       "      <td>2</td>\n",
       "      <td>lorichen</td>\n",
       "      <td>Listen treat keep worry. Miss husband tax but ...</td>\n",
       "    </tr>\n",
       "    <tr>\n",
       "      <th>3</th>\n",
       "      <td>4</td>\n",
       "      <td>3</td>\n",
       "      <td>johnsonamanda</td>\n",
       "      <td>Finally month interesting blue could nature cu...</td>\n",
       "    </tr>\n",
       "    <tr>\n",
       "      <th>4</th>\n",
       "      <td>5</td>\n",
       "      <td>3</td>\n",
       "      <td>scotttamara</td>\n",
       "      <td>Nation purpose heavy give wait song will. List...</td>\n",
       "    </tr>\n",
       "  </tbody>\n",
       "</table>\n",
       "</div>"
      ],
      "text/plain": [
       "   review_id  book_id       username  \\\n",
       "0          1        1   brandtandrea   \n",
       "1          2        1     ryanfranco   \n",
       "2          3        2       lorichen   \n",
       "3          4        3  johnsonamanda   \n",
       "4          5        3    scotttamara   \n",
       "\n",
       "                                                text  \n",
       "0  Mention society tell send professor analysis. ...  \n",
       "1  Foot glass pretty audience hit themselves. Amo...  \n",
       "2  Listen treat keep worry. Miss husband tax but ...  \n",
       "3  Finally month interesting blue could nature cu...  \n",
       "4  Nation purpose heavy give wait song will. List...  "
      ]
     },
     "execution_count": 11,
     "metadata": {},
     "output_type": "execute_result"
    }
   ],
   "source": [
    "# выводим первые строки таблицы reviews\n",
    "query = '''\n",
    "SELECT * FROM reviews LIMIT 5\n",
    "'''\n",
    "get_sql_data(query)"
   ]
  },
  {
   "cell_type": "code",
   "execution_count": 12,
   "id": "96952fdf-8027-454b-b97a-f50922d898de",
   "metadata": {},
   "outputs": [
    {
     "data": {
      "text/html": [
       "<div>\n",
       "<style scoped>\n",
       "    .dataframe tbody tr th:only-of-type {\n",
       "        vertical-align: middle;\n",
       "    }\n",
       "\n",
       "    .dataframe tbody tr th {\n",
       "        vertical-align: top;\n",
       "    }\n",
       "\n",
       "    .dataframe thead th {\n",
       "        text-align: right;\n",
       "    }\n",
       "</style>\n",
       "<table border=\"1\" class=\"dataframe\">\n",
       "  <thead>\n",
       "    <tr style=\"text-align: right;\">\n",
       "      <th></th>\n",
       "      <th>count</th>\n",
       "    </tr>\n",
       "  </thead>\n",
       "  <tbody>\n",
       "    <tr>\n",
       "      <th>0</th>\n",
       "      <td>2793</td>\n",
       "    </tr>\n",
       "  </tbody>\n",
       "</table>\n",
       "</div>"
      ],
      "text/plain": [
       "   count\n",
       "0   2793"
      ]
     },
     "execution_count": 12,
     "metadata": {},
     "output_type": "execute_result"
    }
   ],
   "source": [
    "# считаем количество строк в таблице reviews\n",
    "query = '''\n",
    "SELECT COUNT (*) \n",
    "FROM reviews\n",
    "'''\n",
    "get_sql_data(query)"
   ]
  },
  {
   "cell_type": "markdown",
   "id": "d76d40c6",
   "metadata": {},
   "source": [
    "<div class=\"alert alert-success\">\n",
    "<h2> Комментарий ментора <a class=\"tocSkip\"> </h2>\n",
    "\n",
    "<b>Все отлично!👍:</b> Данные осмотрели - отлично!"
   ]
  },
  {
   "cell_type": "markdown",
   "id": "1c28fc98-14cd-476f-8d59-f2c31ef73e12",
   "metadata": {},
   "source": [
    "## 4.2 Выполнение поставленных задач"
   ]
  },
  {
   "cell_type": "markdown",
   "id": "f5fb51c2-2dce-42a3-a7f2-d52e6ba8477b",
   "metadata": {},
   "source": [
    "### 1. Расчет количества книг, которое вышло после 1 января 2000 года"
   ]
  },
  {
   "cell_type": "code",
   "execution_count": 13,
   "id": "ada1d350-4351-42b9-b337-ac95cb49f963",
   "metadata": {},
   "outputs": [
    {
     "data": {
      "text/html": [
       "<div>\n",
       "<style scoped>\n",
       "    .dataframe tbody tr th:only-of-type {\n",
       "        vertical-align: middle;\n",
       "    }\n",
       "\n",
       "    .dataframe tbody tr th {\n",
       "        vertical-align: top;\n",
       "    }\n",
       "\n",
       "    .dataframe thead th {\n",
       "        text-align: right;\n",
       "    }\n",
       "</style>\n",
       "<table border=\"1\" class=\"dataframe\">\n",
       "  <thead>\n",
       "    <tr style=\"text-align: right;\">\n",
       "      <th></th>\n",
       "      <th>count</th>\n",
       "    </tr>\n",
       "  </thead>\n",
       "  <tbody>\n",
       "    <tr>\n",
       "      <th>0</th>\n",
       "      <td>819</td>\n",
       "    </tr>\n",
       "  </tbody>\n",
       "</table>\n",
       "</div>"
      ],
      "text/plain": [
       "   count\n",
       "0    819"
      ]
     },
     "execution_count": 13,
     "metadata": {},
     "output_type": "execute_result"
    }
   ],
   "source": [
    "query_1 = '''\n",
    "SELECT COUNT(DISTINCT book_id)\n",
    "FROM books\n",
    "WHERE publication_date::date > '2000-01-01';\n",
    "'''\n",
    "get_sql_data(query_1)"
   ]
  },
  {
   "cell_type": "markdown",
   "id": "934caf33-11c9-4f3b-ae9e-bae546090cf0",
   "metadata": {},
   "source": [
    "После 1 января 2000 года всего вышло `819` книг."
   ]
  },
  {
   "cell_type": "markdown",
   "id": "ec6a2aac",
   "metadata": {},
   "source": [
    "<div class=\"alert alert-success\">\n",
    "<h2> Комментарий ментора <a class=\"tocSkip\"> </h2>\n",
    "\n",
    "<b>Все отлично!👍:</b> Правильно!\n",
    "    \n",
    "Отмечу, что условие фильтрации `publication_date >= '2000-01-01' ` также было бы правильным, хоть и привело бы к другому результату - в реальных проектах о том, включается ли дата в диапазон или нет, всегда стоит уточнять заранее:)\n",
    "\n",
    "</div>"
   ]
  },
  {
   "cell_type": "markdown",
   "id": "4202a7c6-9e6e-42a8-9da9-e02ecd776c5b",
   "metadata": {},
   "source": [
    "### 2. Расчет количества обзоров и средней оценки для каждой книги"
   ]
  },
  {
   "cell_type": "code",
   "execution_count": 68,
   "id": "4c58c423-dcc5-41d9-a842-a7f383880ee8",
   "metadata": {},
   "outputs": [
    {
     "data": {
      "text/html": [
       "<div>\n",
       "<style scoped>\n",
       "    .dataframe tbody tr th:only-of-type {\n",
       "        vertical-align: middle;\n",
       "    }\n",
       "\n",
       "    .dataframe tbody tr th {\n",
       "        vertical-align: top;\n",
       "    }\n",
       "\n",
       "    .dataframe thead th {\n",
       "        text-align: right;\n",
       "    }\n",
       "</style>\n",
       "<table border=\"1\" class=\"dataframe\">\n",
       "  <thead>\n",
       "    <tr style=\"text-align: right;\">\n",
       "      <th></th>\n",
       "      <th>title</th>\n",
       "      <th>reviews</th>\n",
       "      <th>avg_rating</th>\n",
       "    </tr>\n",
       "  </thead>\n",
       "  <tbody>\n",
       "    <tr>\n",
       "      <th>0</th>\n",
       "      <td>A Dirty Job (Grim Reaper  #1)</td>\n",
       "      <td>4</td>\n",
       "      <td>5.00</td>\n",
       "    </tr>\n",
       "    <tr>\n",
       "      <th>1</th>\n",
       "      <td>Moneyball: The Art of Winning an Unfair Game</td>\n",
       "      <td>3</td>\n",
       "      <td>5.00</td>\n",
       "    </tr>\n",
       "    <tr>\n",
       "      <th>2</th>\n",
       "      <td>School's Out—Forever (Maximum Ride  #2)</td>\n",
       "      <td>3</td>\n",
       "      <td>5.00</td>\n",
       "    </tr>\n",
       "    <tr>\n",
       "      <th>3</th>\n",
       "      <td>A Fistful of Charms (The Hollows  #4)</td>\n",
       "      <td>2</td>\n",
       "      <td>5.00</td>\n",
       "    </tr>\n",
       "    <tr>\n",
       "      <th>4</th>\n",
       "      <td>A Woman of Substance (Emma Harte Saga #1)</td>\n",
       "      <td>2</td>\n",
       "      <td>5.00</td>\n",
       "    </tr>\n",
       "    <tr>\n",
       "      <th>...</th>\n",
       "      <td>...</td>\n",
       "      <td>...</td>\n",
       "      <td>...</td>\n",
       "    </tr>\n",
       "    <tr>\n",
       "      <th>989</th>\n",
       "      <td>The World Is Flat: A Brief History of the Twen...</td>\n",
       "      <td>3</td>\n",
       "      <td>2.25</td>\n",
       "    </tr>\n",
       "    <tr>\n",
       "      <th>990</th>\n",
       "      <td>Drowning Ruth</td>\n",
       "      <td>3</td>\n",
       "      <td>2.00</td>\n",
       "    </tr>\n",
       "    <tr>\n",
       "      <th>991</th>\n",
       "      <td>His Excellency: George Washington</td>\n",
       "      <td>2</td>\n",
       "      <td>2.00</td>\n",
       "    </tr>\n",
       "    <tr>\n",
       "      <th>992</th>\n",
       "      <td>Junky</td>\n",
       "      <td>2</td>\n",
       "      <td>2.00</td>\n",
       "    </tr>\n",
       "    <tr>\n",
       "      <th>993</th>\n",
       "      <td>Harvesting the Heart</td>\n",
       "      <td>2</td>\n",
       "      <td>1.50</td>\n",
       "    </tr>\n",
       "  </tbody>\n",
       "</table>\n",
       "<p>994 rows × 3 columns</p>\n",
       "</div>"
      ],
      "text/plain": [
       "                                                 title  reviews  avg_rating\n",
       "0                        A Dirty Job (Grim Reaper  #1)        4        5.00\n",
       "1         Moneyball: The Art of Winning an Unfair Game        3        5.00\n",
       "2              School's Out—Forever (Maximum Ride  #2)        3        5.00\n",
       "3                A Fistful of Charms (The Hollows  #4)        2        5.00\n",
       "4            A Woman of Substance (Emma Harte Saga #1)        2        5.00\n",
       "..                                                 ...      ...         ...\n",
       "989  The World Is Flat: A Brief History of the Twen...        3        2.25\n",
       "990                                      Drowning Ruth        3        2.00\n",
       "991                  His Excellency: George Washington        2        2.00\n",
       "992                                              Junky        2        2.00\n",
       "993                               Harvesting the Heart        2        1.50\n",
       "\n",
       "[994 rows x 3 columns]"
      ]
     },
     "execution_count": 68,
     "metadata": {},
     "output_type": "execute_result"
    }
   ],
   "source": [
    "query_2 = '''\n",
    "SELECT DISTINCT b.title AS title,\n",
    "                COUNT(DISTINCT rv.review_id) AS reviews,\n",
    "                AVG(rt.rating) AS avg_rating\n",
    "FROM books b\n",
    "INNER JOIN reviews rv ON b.book_id = rv.book_id\n",
    "INNER JOIN ratings rt ON b.book_id = rt.book_id\n",
    "GROUP BY b.book_id\n",
    "ORDER BY avg_rating DESC,\n",
    "         reviews DESC;\n",
    "'''\n",
    "get_sql_data(query_2)"
   ]
  },
  {
   "cell_type": "markdown",
   "id": "dec16544-e4e4-4495-bc45-7dc9c4aef931",
   "metadata": {},
   "source": [
    "* Самый высокий рейтинг с наибольшим количеством оценок получила книга `A Dirty Job (Grim Reaper #1)` - **4 оценки** при **среднем рейтинге 5.0**;\n",
    "* Самый низкий рейтинг у книги `Harvesting the Heart` - **2 оценки** при среднем рейтинге книги **1.5**."
   ]
  },
  {
   "cell_type": "code",
   "execution_count": 37,
   "id": "64625c4f-56ab-491a-9ce7-559f0c675bfb",
   "metadata": {},
   "outputs": [
    {
     "data": {
      "text/html": [
       "<div>\n",
       "<style scoped>\n",
       "    .dataframe tbody tr th:only-of-type {\n",
       "        vertical-align: middle;\n",
       "    }\n",
       "\n",
       "    .dataframe tbody tr th {\n",
       "        vertical-align: top;\n",
       "    }\n",
       "\n",
       "    .dataframe thead th {\n",
       "        text-align: right;\n",
       "    }\n",
       "</style>\n",
       "<table border=\"1\" class=\"dataframe\">\n",
       "  <thead>\n",
       "    <tr style=\"text-align: right;\">\n",
       "      <th></th>\n",
       "      <th>title</th>\n",
       "      <th>reviews</th>\n",
       "      <th>avg_rating</th>\n",
       "    </tr>\n",
       "  </thead>\n",
       "  <tbody>\n",
       "    <tr>\n",
       "      <th>0</th>\n",
       "      <td>Twilight (Twilight  #1)</td>\n",
       "      <td>7</td>\n",
       "      <td>3.662500</td>\n",
       "    </tr>\n",
       "    <tr>\n",
       "      <th>1</th>\n",
       "      <td>Water for Elephants</td>\n",
       "      <td>6</td>\n",
       "      <td>3.977273</td>\n",
       "    </tr>\n",
       "    <tr>\n",
       "      <th>2</th>\n",
       "      <td>The Glass Castle</td>\n",
       "      <td>6</td>\n",
       "      <td>4.206897</td>\n",
       "    </tr>\n",
       "    <tr>\n",
       "      <th>3</th>\n",
       "      <td>Harry Potter and the Prisoner of Azkaban (Harr...</td>\n",
       "      <td>6</td>\n",
       "      <td>4.414634</td>\n",
       "    </tr>\n",
       "    <tr>\n",
       "      <th>4</th>\n",
       "      <td>The Curious Incident of the Dog in the Night-Time</td>\n",
       "      <td>6</td>\n",
       "      <td>4.081081</td>\n",
       "    </tr>\n",
       "    <tr>\n",
       "      <th>...</th>\n",
       "      <td>...</td>\n",
       "      <td>...</td>\n",
       "      <td>...</td>\n",
       "    </tr>\n",
       "    <tr>\n",
       "      <th>995</th>\n",
       "      <td>Anne Rice's The Vampire Lestat: A Graphic Novel</td>\n",
       "      <td>0</td>\n",
       "      <td>3.666667</td>\n",
       "    </tr>\n",
       "    <tr>\n",
       "      <th>996</th>\n",
       "      <td>The Natural Way to Draw</td>\n",
       "      <td>0</td>\n",
       "      <td>3.000000</td>\n",
       "    </tr>\n",
       "    <tr>\n",
       "      <th>997</th>\n",
       "      <td>The Cat in the Hat and Other Dr. Seuss Favorites</td>\n",
       "      <td>0</td>\n",
       "      <td>5.000000</td>\n",
       "    </tr>\n",
       "    <tr>\n",
       "      <th>998</th>\n",
       "      <td>Essential Tales and Poems</td>\n",
       "      <td>0</td>\n",
       "      <td>4.000000</td>\n",
       "    </tr>\n",
       "    <tr>\n",
       "      <th>999</th>\n",
       "      <td>Disney's Beauty and the Beast (A Little Golden...</td>\n",
       "      <td>0</td>\n",
       "      <td>4.000000</td>\n",
       "    </tr>\n",
       "  </tbody>\n",
       "</table>\n",
       "<p>1000 rows × 3 columns</p>\n",
       "</div>"
      ],
      "text/plain": [
       "                                                 title  reviews  avg_rating\n",
       "0                              Twilight (Twilight  #1)        7    3.662500\n",
       "1                                  Water for Elephants        6    3.977273\n",
       "2                                     The Glass Castle        6    4.206897\n",
       "3    Harry Potter and the Prisoner of Azkaban (Harr...        6    4.414634\n",
       "4    The Curious Incident of the Dog in the Night-Time        6    4.081081\n",
       "..                                                 ...      ...         ...\n",
       "995    Anne Rice's The Vampire Lestat: A Graphic Novel        0    3.666667\n",
       "996                            The Natural Way to Draw        0    3.000000\n",
       "997   The Cat in the Hat and Other Dr. Seuss Favorites        0    5.000000\n",
       "998                          Essential Tales and Poems        0    4.000000\n",
       "999  Disney's Beauty and the Beast (A Little Golden...        0    4.000000\n",
       "\n",
       "[1000 rows x 3 columns]"
      ]
     },
     "execution_count": 37,
     "metadata": {},
     "output_type": "execute_result"
    }
   ],
   "source": [
    "query_2_1 = '''\n",
    "SELECT b.title AS title,\n",
    "       (COUNT(DISTINCT rv.review_id)) AS reviews,\n",
    "       AVG(rt.rating) AS avg_rating\n",
    "FROM books b\n",
    "LEFT JOIN reviews rv ON b.book_id = rv.book_id\n",
    "LEFT JOIN ratings rt ON b.book_id = rt.book_id\n",
    "GROUP BY b.book_id\n",
    "ORDER BY reviews DESC;\n",
    "'''\n",
    "get_sql_data(query_2_1)"
   ]
  },
  {
   "cell_type": "code",
   "execution_count": 30,
   "id": "397e031d",
   "metadata": {},
   "outputs": [
    {
     "data": {
      "text/html": [
       "<div>\n",
       "<style scoped>\n",
       "    .dataframe tbody tr th:only-of-type {\n",
       "        vertical-align: middle;\n",
       "    }\n",
       "\n",
       "    .dataframe tbody tr th {\n",
       "        vertical-align: top;\n",
       "    }\n",
       "\n",
       "    .dataframe thead th {\n",
       "        text-align: right;\n",
       "    }\n",
       "</style>\n",
       "<table border=\"1\" class=\"dataframe\">\n",
       "  <thead>\n",
       "    <tr style=\"text-align: right;\">\n",
       "      <th></th>\n",
       "      <th>reviews_c</th>\n",
       "      <th>book_id</th>\n",
       "    </tr>\n",
       "  </thead>\n",
       "  <tbody>\n",
       "    <tr>\n",
       "      <th>0</th>\n",
       "      <td>7</td>\n",
       "      <td>948</td>\n",
       "    </tr>\n",
       "    <tr>\n",
       "      <th>1</th>\n",
       "      <td>6</td>\n",
       "      <td>656</td>\n",
       "    </tr>\n",
       "    <tr>\n",
       "      <th>2</th>\n",
       "      <td>6</td>\n",
       "      <td>497</td>\n",
       "    </tr>\n",
       "    <tr>\n",
       "      <th>3</th>\n",
       "      <td>6</td>\n",
       "      <td>963</td>\n",
       "    </tr>\n",
       "    <tr>\n",
       "      <th>4</th>\n",
       "      <td>6</td>\n",
       "      <td>696</td>\n",
       "    </tr>\n",
       "    <tr>\n",
       "      <th>...</th>\n",
       "      <td>...</td>\n",
       "      <td>...</td>\n",
       "    </tr>\n",
       "    <tr>\n",
       "      <th>989</th>\n",
       "      <td>1</td>\n",
       "      <td>599</td>\n",
       "    </tr>\n",
       "    <tr>\n",
       "      <th>990</th>\n",
       "      <td>1</td>\n",
       "      <td>187</td>\n",
       "    </tr>\n",
       "    <tr>\n",
       "      <th>991</th>\n",
       "      <td>1</td>\n",
       "      <td>156</td>\n",
       "    </tr>\n",
       "    <tr>\n",
       "      <th>992</th>\n",
       "      <td>1</td>\n",
       "      <td>984</td>\n",
       "    </tr>\n",
       "    <tr>\n",
       "      <th>993</th>\n",
       "      <td>1</td>\n",
       "      <td>760</td>\n",
       "    </tr>\n",
       "  </tbody>\n",
       "</table>\n",
       "<p>994 rows × 2 columns</p>\n",
       "</div>"
      ],
      "text/plain": [
       "     reviews_c  book_id\n",
       "0            7      948\n",
       "1            6      656\n",
       "2            6      497\n",
       "3            6      963\n",
       "4            6      696\n",
       "..         ...      ...\n",
       "989          1      599\n",
       "990          1      187\n",
       "991          1      156\n",
       "992          1      984\n",
       "993          1      760\n",
       "\n",
       "[994 rows x 2 columns]"
      ]
     },
     "execution_count": 30,
     "metadata": {},
     "output_type": "execute_result"
    }
   ],
   "source": [
    "# сравнение с оригинальной таблицей reviews\n",
    "query_2a = '''\n",
    "SELECT COUNT(review_id) AS reviews_c,\n",
    "       book_id\n",
    "FROM reviews\n",
    "GROUP BY book_id\n",
    "ORDER BY reviews_c DESC;\n",
    "'''\n",
    "get_sql_data(query_2a)"
   ]
  },
  {
   "cell_type": "markdown",
   "id": "e3035210-cf16-499c-9436-01f6be29c0d1",
   "metadata": {},
   "source": [
    "* Самой популярной книгой является `Twilight (Twilight #1)` - **7** оценок"
   ]
  },
  {
   "cell_type": "markdown",
   "id": "de65cff6",
   "metadata": {},
   "source": [
    "<div class=\"alert alert-block alert-danger\">\n",
    "<h2> Комментарий ментора <a class=\"tocSkip\"></h2>\n",
    "\n",
    "    \n",
    "<b>На доработку❌:</b>\n",
    "Не совсем верно посчитано количество отзывов - рекомендую взять книгу с наибольшим количеством отзывов из твоего ответа и сверить с исходными данными в таблице `reviews` - будет ли сходиться число отзывов?\n",
    "    \n",
    "Также в твоём запросе 994 строки. 1 строка соответствует 1 книге. В задании сказано, что средний рейтинг и количество оценок нужно посчитать для всех книг. Давай проверим, сколько книг находится в исходной таблице `books`? Ничего ли не потерялось?\n",
    "    \n",
    "    \n",
    "</div>"
   ]
  },
  {
   "cell_type": "markdown",
   "id": "8e1e0deb",
   "metadata": {},
   "source": [
    "<div class=\"alert alert-info\">\n",
    "<h2> Комментарий студента <a class=\"tocSkip\"> </h2>\n",
    "Изменил тип джоина, теперь все книги на месте, также добавил distinct в счетчик ревью, теперь совпадает с оригинальной таблицей.\n",
    "</div>"
   ]
  },
  {
   "cell_type": "markdown",
   "id": "58eb2a4f",
   "metadata": {},
   "source": [
    "<div class=\"alert alert-success\">\n",
    "<h2> Комментарий ментора v.2 <a class=\"tocSkip\"> </h2>\n",
    "\n",
    "<b>Все отлично!👍:</b> Учтено."
   ]
  },
  {
   "cell_type": "markdown",
   "id": "cbb18344-b9c5-4fff-a67d-29e17e272a28",
   "metadata": {},
   "source": [
    "### 3. Определение издательства, которое выпустило наибольшее число книг толще 50 страниц (для исключения брошюр)"
   ]
  },
  {
   "cell_type": "code",
   "execution_count": 16,
   "id": "02eaf10f-fc57-4714-9e42-4432fdc350fe",
   "metadata": {},
   "outputs": [
    {
     "data": {
      "text/html": [
       "<div>\n",
       "<style scoped>\n",
       "    .dataframe tbody tr th:only-of-type {\n",
       "        vertical-align: middle;\n",
       "    }\n",
       "\n",
       "    .dataframe tbody tr th {\n",
       "        vertical-align: top;\n",
       "    }\n",
       "\n",
       "    .dataframe thead th {\n",
       "        text-align: right;\n",
       "    }\n",
       "</style>\n",
       "<table border=\"1\" class=\"dataframe\">\n",
       "  <thead>\n",
       "    <tr style=\"text-align: right;\">\n",
       "      <th></th>\n",
       "      <th>издательство</th>\n",
       "      <th>число_книг</th>\n",
       "    </tr>\n",
       "  </thead>\n",
       "  <tbody>\n",
       "    <tr>\n",
       "      <th>0</th>\n",
       "      <td>Penguin Books</td>\n",
       "      <td>42</td>\n",
       "    </tr>\n",
       "  </tbody>\n",
       "</table>\n",
       "</div>"
      ],
      "text/plain": [
       "    издательство  число_книг\n",
       "0  Penguin Books          42"
      ]
     },
     "execution_count": 16,
     "metadata": {},
     "output_type": "execute_result"
    }
   ],
   "source": [
    "query_3 = '''\n",
    "SELECT p.publisher AS издательство,\n",
    "       COUNT(b.book_id) AS число_книг\n",
    "FROM books b\n",
    "JOIN publishers p ON b.publisher_id = p.publisher_id\n",
    "WHERE b.num_pages > 50\n",
    "GROUP BY p.publisher\n",
    "ORDER BY число_книг DESC\n",
    "LIMIT 1;\n",
    "'''\n",
    "get_sql_data(query_3)"
   ]
  },
  {
   "cell_type": "markdown",
   "id": "65d49483-c93a-4794-a1fe-cbad3d682ab7",
   "metadata": {},
   "source": [
    "Издательством, которое выпустило наибольшее число книг толще 50 страниц, является `Penguin Books`."
   ]
  },
  {
   "cell_type": "markdown",
   "id": "65b1a2c5",
   "metadata": {},
   "source": [
    "<div class=\"alert alert-success\">\n",
    "<h2> Комментарий ментора <a class=\"tocSkip\"> </h2>\n",
    "\n",
    "<b>Все отлично!👍:</b> Издательство опредили верно! Здорово, что дополнительно выведено количество книг издательства:)\n",
    "\n",
    "</div>"
   ]
  },
  {
   "cell_type": "markdown",
   "id": "bee50ced-d94b-4a93-a10e-827306d91f82",
   "metadata": {},
   "source": [
    "### 4. Определение автора с самой высокой средней оценкой книг, при этом необходимо учитывать только книги с 50 и более оценками"
   ]
  },
  {
   "cell_type": "code",
   "execution_count": 59,
   "id": "58607cd9",
   "metadata": {},
   "outputs": [
    {
     "data": {
      "text/html": [
       "<div>\n",
       "<style scoped>\n",
       "    .dataframe tbody tr th:only-of-type {\n",
       "        vertical-align: middle;\n",
       "    }\n",
       "\n",
       "    .dataframe tbody tr th {\n",
       "        vertical-align: top;\n",
       "    }\n",
       "\n",
       "    .dataframe thead th {\n",
       "        text-align: right;\n",
       "    }\n",
       "</style>\n",
       "<table border=\"1\" class=\"dataframe\">\n",
       "  <thead>\n",
       "    <tr style=\"text-align: right;\">\n",
       "      <th></th>\n",
       "      <th>автор</th>\n",
       "      <th>средняя_оценка</th>\n",
       "      <th>оценок_всего</th>\n",
       "    </tr>\n",
       "  </thead>\n",
       "  <tbody>\n",
       "    <tr>\n",
       "      <th>0</th>\n",
       "      <td>J.K. Rowling/Mary GrandPré</td>\n",
       "      <td>4.283844</td>\n",
       "      <td>310.0</td>\n",
       "    </tr>\n",
       "    <tr>\n",
       "      <th>1</th>\n",
       "      <td>Markus Zusak/Cao Xuân Việt Khương</td>\n",
       "      <td>4.264151</td>\n",
       "      <td>53.0</td>\n",
       "    </tr>\n",
       "    <tr>\n",
       "      <th>2</th>\n",
       "      <td>J.R.R. Tolkien</td>\n",
       "      <td>4.258446</td>\n",
       "      <td>162.0</td>\n",
       "    </tr>\n",
       "    <tr>\n",
       "      <th>3</th>\n",
       "      <td>Louisa May Alcott</td>\n",
       "      <td>4.192308</td>\n",
       "      <td>52.0</td>\n",
       "    </tr>\n",
       "    <tr>\n",
       "      <th>4</th>\n",
       "      <td>Arthur Golden</td>\n",
       "      <td>4.107143</td>\n",
       "      <td>56.0</td>\n",
       "    </tr>\n",
       "  </tbody>\n",
       "</table>\n",
       "</div>"
      ],
      "text/plain": [
       "                               автор  средняя_оценка  оценок_всего\n",
       "0         J.K. Rowling/Mary GrandPré        4.283844         310.0\n",
       "1  Markus Zusak/Cao Xuân Việt Khương        4.264151          53.0\n",
       "2                     J.R.R. Tolkien        4.258446         162.0\n",
       "3                  Louisa May Alcott        4.192308          52.0\n",
       "4                      Arthur Golden        4.107143          56.0"
      ]
     },
     "execution_count": 59,
     "metadata": {},
     "output_type": "execute_result"
    }
   ],
   "source": [
    "query_4 = '''\n",
    "WITH book_table AS (SELECT b.title AS название_книги,\n",
    "                           a.author AS автор,\n",
    "                           AVG(rt.rating) AS оценка,\n",
    "                           COUNT(rating_id) AS количество_оценок\n",
    "                    FROM books b\n",
    "                    JOIN ratings rt ON b.book_id = rt.book_id\n",
    "                    JOIN authors a ON b.author_id = a.author_id\n",
    "                    GROUP BY b.title,\n",
    "                             a.author\n",
    "                    HAVING COUNT(rating_id) > 50)\n",
    "SELECT автор,\n",
    "       AVG(оценка) AS средняя_оценка,\n",
    "       SUM(количество_оценок) AS оценок_всего\n",
    "FROM book_table\n",
    "GROUP BY автор\n",
    "ORDER BY средняя_оценка DESC\n",
    "LIMIT 5;\n",
    "'''\n",
    "get_sql_data(query_4)"
   ]
  },
  {
   "cell_type": "code",
   "execution_count": 69,
   "id": "ca7b0977",
   "metadata": {},
   "outputs": [
    {
     "data": {
      "text/html": [
       "<div>\n",
       "<style scoped>\n",
       "    .dataframe tbody tr th:only-of-type {\n",
       "        vertical-align: middle;\n",
       "    }\n",
       "\n",
       "    .dataframe tbody tr th {\n",
       "        vertical-align: top;\n",
       "    }\n",
       "\n",
       "    .dataframe thead th {\n",
       "        text-align: right;\n",
       "    }\n",
       "</style>\n",
       "<table border=\"1\" class=\"dataframe\">\n",
       "  <thead>\n",
       "    <tr style=\"text-align: right;\">\n",
       "      <th></th>\n",
       "      <th>title</th>\n",
       "      <th>author</th>\n",
       "      <th>avg</th>\n",
       "      <th>count</th>\n",
       "    </tr>\n",
       "  </thead>\n",
       "  <tbody>\n",
       "    <tr>\n",
       "      <th>0</th>\n",
       "      <td>Harry Potter Boxed Set  Books 1-5 (Harry Potte...</td>\n",
       "      <td>J.K. Rowling/Mary GrandPré</td>\n",
       "      <td>4.500000</td>\n",
       "      <td>2</td>\n",
       "    </tr>\n",
       "    <tr>\n",
       "      <th>1</th>\n",
       "      <td>Harry Potter and the Chamber of Secrets (Harry...</td>\n",
       "      <td>J.K. Rowling/Mary GrandPré</td>\n",
       "      <td>4.287500</td>\n",
       "      <td>80</td>\n",
       "    </tr>\n",
       "    <tr>\n",
       "      <th>2</th>\n",
       "      <td>Harry Potter and the Half-Blood Prince (Harry ...</td>\n",
       "      <td>J.K. Rowling/Mary GrandPré</td>\n",
       "      <td>4.246575</td>\n",
       "      <td>73</td>\n",
       "    </tr>\n",
       "    <tr>\n",
       "      <th>3</th>\n",
       "      <td>Harry Potter and the Order of the Phoenix (Har...</td>\n",
       "      <td>J.K. Rowling/Mary GrandPré</td>\n",
       "      <td>4.186667</td>\n",
       "      <td>75</td>\n",
       "    </tr>\n",
       "    <tr>\n",
       "      <th>4</th>\n",
       "      <td>Harry Potter and the Prisoner of Azkaban (Harr...</td>\n",
       "      <td>J.K. Rowling/Mary GrandPré</td>\n",
       "      <td>4.414634</td>\n",
       "      <td>82</td>\n",
       "    </tr>\n",
       "  </tbody>\n",
       "</table>\n",
       "</div>"
      ],
      "text/plain": [
       "                                               title  \\\n",
       "0  Harry Potter Boxed Set  Books 1-5 (Harry Potte...   \n",
       "1  Harry Potter and the Chamber of Secrets (Harry...   \n",
       "2  Harry Potter and the Half-Blood Prince (Harry ...   \n",
       "3  Harry Potter and the Order of the Phoenix (Har...   \n",
       "4  Harry Potter and the Prisoner of Azkaban (Harr...   \n",
       "\n",
       "                       author       avg  count  \n",
       "0  J.K. Rowling/Mary GrandPré  4.500000      2  \n",
       "1  J.K. Rowling/Mary GrandPré  4.287500     80  \n",
       "2  J.K. Rowling/Mary GrandPré  4.246575     73  \n",
       "3  J.K. Rowling/Mary GrandPré  4.186667     75  \n",
       "4  J.K. Rowling/Mary GrandPré  4.414634     82  "
      ]
     },
     "execution_count": 69,
     "metadata": {},
     "output_type": "execute_result"
    }
   ],
   "source": [
    "# проверяем корректность рассчитанных оценок\n",
    "query_4A = '''\n",
    "SELECT b.title,\n",
    "       a.author,\n",
    "       AVG(rt.rating),\n",
    "       COUNT(rt.rating_id)\n",
    "FROM books b\n",
    "JOIN ratings rt ON b.book_id = rt.book_id\n",
    "JOIN authors a ON b.author_id = a.author_id\n",
    "WHERE a.author = 'J.K. Rowling/Mary GrandPré'\n",
    "GROUP BY a.author,\n",
    "         b.title\n",
    "'''\n",
    "get_sql_data(query_4A)"
   ]
  },
  {
   "cell_type": "markdown",
   "id": "3032c39c",
   "metadata": {},
   "source": [
    "Все верно, одна книга с 2 оценками не вошла в список"
   ]
  },
  {
   "cell_type": "markdown",
   "id": "2a9c67d3-9aed-432f-b397-6cb8899186aa",
   "metadata": {},
   "source": [
    "Автором с самой высокой средней оценкой книг (с учетом только книг с количеством оценок более 50) является `J.K. Rowling/Mary GrandPre`."
   ]
  },
  {
   "cell_type": "markdown",
   "id": "7d95fd1d",
   "metadata": {},
   "source": [
    "<div class=\"alert alert-block alert-danger\">\n",
    "<h2> Комментарий ментора <a class=\"tocSkip\"></h2>\n",
    "\n",
    "    \n",
    "<b>На доработку❌:</b> Так как в первом запросе данные сгруппированы на уровне автора, то фильтр `HAVING`, призванный отбросить книги с количеством отзывов менее 50, перестаёт работать: у каждого автора может быть по несколько книг с количеством отзывов менее 50, но если просуммировать отзывы по всем книгам в пределах автора (а именно так и происходит при группировке на уровне автора), то 50 и более отзывов легко набирается. \n",
    "    \n",
    "Корректнее здесь либо группировать сначала на уровне книги, тогда фильтр `HAVING` будет работать, либо оставить группировку по автору, но в подзапросе найти книги, которые могут участвовать в расчёте рейтинга - тогда фильтр `HAVNIG` будет в этом подзапросе.\n",
    "    \n",
    "Также проверь корректность оператора сравнения в `HAVING`."
   ]
  },
  {
   "cell_type": "markdown",
   "id": "2b867296",
   "metadata": {},
   "source": [
    "<div class=\"alert alert-info\">\n",
    "<h2> Комментарий студента <a class=\"tocSkip\"> </h2>\n",
    "Скорректировал, проверил, вроде теперь все верно.\n",
    "</div>"
   ]
  },
  {
   "cell_type": "markdown",
   "id": "4eff33d4",
   "metadata": {},
   "source": [
    "<div class=\"alert alert-success\">\n",
    "<h2> Комментарий ментора v.2 <a class=\"tocSkip\"> </h2>\n",
    "\n",
    "<b>Все отлично!👍:</b> Учтено."
   ]
  },
  {
   "cell_type": "markdown",
   "id": "1b0d1e7c-6633-40c4-a03c-49c27777ba5c",
   "metadata": {},
   "source": [
    "### 5. Расчет среднего количества обзоров от пользователей, которые поставили больше 48 оценок."
   ]
  },
  {
   "cell_type": "code",
   "execution_count": 18,
   "id": "0bc88fc1-7565-4e80-bca1-9cf6654b8427",
   "metadata": {},
   "outputs": [
    {
     "data": {
      "text/html": [
       "<div>\n",
       "<style scoped>\n",
       "    .dataframe tbody tr th:only-of-type {\n",
       "        vertical-align: middle;\n",
       "    }\n",
       "\n",
       "    .dataframe tbody tr th {\n",
       "        vertical-align: top;\n",
       "    }\n",
       "\n",
       "    .dataframe thead th {\n",
       "        text-align: right;\n",
       "    }\n",
       "</style>\n",
       "<table border=\"1\" class=\"dataframe\">\n",
       "  <thead>\n",
       "    <tr style=\"text-align: right;\">\n",
       "      <th></th>\n",
       "      <th>среднее_число_обзоров</th>\n",
       "    </tr>\n",
       "  </thead>\n",
       "  <tbody>\n",
       "    <tr>\n",
       "      <th>0</th>\n",
       "      <td>24.0</td>\n",
       "    </tr>\n",
       "  </tbody>\n",
       "</table>\n",
       "</div>"
      ],
      "text/plain": [
       "   среднее_число_обзоров\n",
       "0                   24.0"
      ]
     },
     "execution_count": 18,
     "metadata": {},
     "output_type": "execute_result"
    }
   ],
   "source": [
    "query_5 = '''\n",
    "WITH ratings_table AS (SELECT DISTINCT rt.username,\n",
    "                              COUNT(rt.rating_id) AS число_оценок\n",
    "                       FROM books b\n",
    "                       JOIN ratings rt ON b.book_id = rt.book_id\n",
    "                       GROUP BY rt.username\n",
    "                       HAVING COUNT(rt.rating_id) > 48\n",
    "                       ORDER BY число_оценок DESC),\n",
    "     reviews_table AS (SELECT DISTINCT rb.username AS пользователь,\n",
    "                              COUNT(rv.review_id) AS число_обзоров\n",
    "                       FROM ratings_table rb\n",
    "                       INNER JOIN reviews rv ON rb.username = rv.username\n",
    "                       GROUP BY rb.username\n",
    "                       ORDER BY число_обзоров DESC)\n",
    "SELECT ROUND(AVG(число_обзоров)) AS среднее_число_обзоров\n",
    "FROM reviews_table;                      \n",
    "'''\n",
    "get_sql_data(query_5)"
   ]
  },
  {
   "cell_type": "markdown",
   "id": "bae0a12e-8326-4a99-b9be-150a1a8092e5",
   "metadata": {},
   "source": [
    "Среднее число обзоров от пользователей, которые поставили больше 48 оценок, составляет `24`."
   ]
  },
  {
   "cell_type": "markdown",
   "id": "610bb984",
   "metadata": {},
   "source": [
    "<div class=\"alert alert-success\">\n",
    "<h2> Комментарий ментора <a class=\"tocSkip\"> </h2>\n",
    "\n",
    "<b>Все отлично!👍:</b> Среднее количество обзоров от пользователей, которые поставили больше 48 оценок, посчитано верно!"
   ]
  },
  {
   "cell_type": "markdown",
   "id": "3b77ecc1-bf6d-45e1-84b8-77b35a932b6c",
   "metadata": {},
   "source": [
    "# 5. Общие выводы"
   ]
  },
  {
   "cell_type": "markdown",
   "id": "c19b8c32-1978-4691-92c9-f4425b4fe368",
   "metadata": {},
   "source": [
    "* После 1 января 2000 года всего вышло `819` книг;\n",
    "* Самый высокий рейтинг с наибольшим количеством оценок получила книга `A Dirty Job (Grim Reaper #1)` - **4 оценки** при **среднем рейтинге 5.0**;\n",
    "* Самый низкий рейтинг у книги `Harvesting the Heart` - **2 оценки** при среднем рейтинге книги **1.5**;\n",
    "* Самой популярной книгой является `Twilight (Twilight #1)` - **7** оценок;\n",
    "* Издательством, которое выпустило наибольшее число книг толще 50 страниц, является `Penguin Books`;\n",
    "* Автором с самой высокой средней оценкой книг (с учетом только книг с количеством оценок более 50) является `J.K. Rowling/Mary GrandPre`;\n",
    "* Среднее число обзоров от пользователей, которые поставили больше 48 оценок, составляет `24`."
   ]
  },
  {
   "cell_type": "markdown",
   "id": "16cd4942",
   "metadata": {},
   "source": [
    "<div class=\"alert alert-success\">\n",
    "<h2> Комментарий ментора <a class=\"tocSkip\"> </h2>\n",
    "\n",
    "<b>Все отлично!👍:</b> Отличный итоговый вывод по проекту!"
   ]
  },
  {
   "cell_type": "markdown",
   "id": "bc36f3a8",
   "metadata": {},
   "source": [
    "<div style=\"border:solid Chocolate 2px; padding: 40px\">\n",
    "\n",
    "# Комментарий ментора: общий вывод по проекту.\n",
    "\n",
    "Игорь, хорошая работа над проектом - часть заданий у тебя выполнены верно!\n",
    "\n",
    "Мне нравится твой аналитический подход к выполнению проекта, ты соблюдаешь структуру работы, выполняешь её последовательно - это очень хорошо! Шаги проекта выполнены по порядку согласно плану проекта, нет смысловых и структурных ям. Важно, что не забываешь про выводы.\n",
    "    \n",
    "SQL запросы написаны хорошо и оптимально, в них нет избыточных действий, они возвращают верный результат - это здорово, кажется, тебе удалось здорово разобраться в теме.\n",
    "    \n",
    "Есть небольшие рекомендации по улучшению проекта - некритичная мелочь, которая не займёт много времени, но сделает твой проект стилистически более совершенным. Будет классно, если эти рекомендации будут учтены в твоей работе:)\n",
    "    \n",
    "К нескольким заданиям стоит вернуться - к ним я оставил комментарии красного цвета с пояснениями внутри. Думаю, ты быстро разберёшься, в чём дело.\n",
    "\n",
    "Также буду рад ответить на любые твои вопросы по проекту или на какие-либо другие, если они у тебя имеются - оставь их в комментариях, и я постараюсь ответить:)\n",
    "    \n",
    "Жду твой проект на повторном ревью. До встречи:)"
   ]
  },
  {
   "cell_type": "markdown",
   "id": "933a787d",
   "metadata": {},
   "source": [
    "<div style=\"border:solid Chocolate 2px; padding: 40px\">\n",
    "\n",
    "# Комментарий ментора: итоговый вывод по проекту.\n",
    "\n",
    "Игорь, вот мы и преодолели финишную черту - поздравляю с завершением финального спринта!\n",
    "    \n",
    "Проделана без сомнения крутая и тяжёлая работа, и все проекты финального спринта удадось выполнить на достойном уровне - уверен, если решишь развиваться дальше в направлении аналитики, тебя ждёт успех и хороший рост:)\n",
    "    \n",
    "Спасибо за хорошую работу над проектами финального спринта, желаю дальнейшего профессионального роста и развития, проектов для применения на практике полученных значений, а также адекватных заказчиков:)"
   ]
  }
 ],
 "metadata": {
  "ExecuteTimeLog": [
   {
    "duration": 550,
    "start_time": "2024-05-31T09:55:34.941Z"
   },
   {
    "duration": 7146,
    "start_time": "2024-05-31T09:55:35.494Z"
   },
   {
    "duration": 226,
    "start_time": "2024-05-31T09:55:42.642Z"
   },
   {
    "duration": 48,
    "start_time": "2024-05-31T09:55:42.871Z"
   },
   {
    "duration": 49,
    "start_time": "2024-05-31T09:55:42.921Z"
   },
   {
    "duration": 47,
    "start_time": "2024-05-31T09:55:42.971Z"
   },
   {
    "duration": 48,
    "start_time": "2024-05-31T09:55:43.020Z"
   },
   {
    "duration": 47,
    "start_time": "2024-05-31T09:55:43.070Z"
   },
   {
    "duration": 50,
    "start_time": "2024-05-31T09:55:43.118Z"
   },
   {
    "duration": 48,
    "start_time": "2024-05-31T09:55:43.171Z"
   },
   {
    "duration": 50,
    "start_time": "2024-05-31T09:55:43.221Z"
   },
   {
    "duration": 47,
    "start_time": "2024-05-31T09:55:43.272Z"
   },
   {
    "duration": 47,
    "start_time": "2024-05-31T09:55:43.320Z"
   },
   {
    "duration": 87,
    "start_time": "2024-05-31T09:55:43.369Z"
   },
   {
    "duration": 76,
    "start_time": "2024-05-31T09:55:43.458Z"
   },
   {
    "duration": 49,
    "start_time": "2024-05-31T09:55:43.535Z"
   },
   {
    "duration": 54,
    "start_time": "2024-05-31T09:55:43.586Z"
   },
   {
    "duration": 60,
    "start_time": "2024-05-31T09:55:43.642Z"
   },
   {
    "duration": 85,
    "start_time": "2024-05-31T09:57:41.973Z"
   },
   {
    "duration": 86,
    "start_time": "2024-05-31T10:01:11.989Z"
   },
   {
    "duration": 91,
    "start_time": "2024-05-31T10:02:39.009Z"
   },
   {
    "duration": 63,
    "start_time": "2024-05-31T10:05:23.502Z"
   },
   {
    "duration": 84,
    "start_time": "2024-05-31T10:08:39.936Z"
   },
   {
    "duration": 75,
    "start_time": "2024-05-31T10:09:50.563Z"
   },
   {
    "duration": 130,
    "start_time": "2024-05-31T10:11:07.335Z"
   },
   {
    "duration": 61,
    "start_time": "2024-05-31T10:11:11.997Z"
   },
   {
    "duration": 60,
    "start_time": "2024-05-31T10:11:16.482Z"
   },
   {
    "duration": 92,
    "start_time": "2024-05-31T10:11:34.696Z"
   },
   {
    "duration": 65,
    "start_time": "2024-05-31T10:12:01.561Z"
   },
   {
    "duration": 71,
    "start_time": "2024-05-31T10:31:35.161Z"
   },
   {
    "duration": 50,
    "start_time": "2024-05-31T10:32:11.065Z"
   },
   {
    "duration": 75,
    "start_time": "2024-05-31T10:33:17.424Z"
   },
   {
    "duration": 63,
    "start_time": "2024-05-31T10:33:28.945Z"
   },
   {
    "duration": 77,
    "start_time": "2024-05-31T10:34:28.874Z"
   },
   {
    "duration": 59,
    "start_time": "2024-05-31T10:34:36.218Z"
   },
   {
    "duration": 75,
    "start_time": "2024-05-31T10:34:38.497Z"
   },
   {
    "duration": 85,
    "start_time": "2024-05-31T10:34:58.545Z"
   },
   {
    "duration": 56,
    "start_time": "2024-05-31T10:45:09.069Z"
   },
   {
    "duration": 61,
    "start_time": "2024-05-31T10:49:41.594Z"
   },
   {
    "duration": 59,
    "start_time": "2024-05-31T10:51:17.424Z"
   },
   {
    "duration": 59,
    "start_time": "2024-05-31T10:51:38.258Z"
   },
   {
    "duration": 58,
    "start_time": "2024-05-31T10:52:44.330Z"
   },
   {
    "duration": 61,
    "start_time": "2024-05-31T10:53:00.600Z"
   },
   {
    "duration": 56,
    "start_time": "2024-05-31T10:53:10.384Z"
   },
   {
    "duration": 59,
    "start_time": "2024-05-31T10:54:20.958Z"
   },
   {
    "duration": 57,
    "start_time": "2024-05-31T10:54:46.671Z"
   },
   {
    "duration": 60,
    "start_time": "2024-05-31T10:55:41.087Z"
   },
   {
    "duration": 57,
    "start_time": "2024-05-31T10:55:56.067Z"
   },
   {
    "duration": 59,
    "start_time": "2024-05-31T10:56:12.881Z"
   },
   {
    "duration": 58,
    "start_time": "2024-05-31T10:58:21.296Z"
   },
   {
    "duration": 70,
    "start_time": "2024-05-31T10:59:39.984Z"
   },
   {
    "duration": 57,
    "start_time": "2024-05-31T11:00:01.225Z"
   },
   {
    "duration": 56,
    "start_time": "2024-05-31T11:00:57.594Z"
   },
   {
    "duration": 56,
    "start_time": "2024-05-31T11:01:05.512Z"
   },
   {
    "duration": 56,
    "start_time": "2024-05-31T11:04:08.071Z"
   },
   {
    "duration": 56,
    "start_time": "2024-05-31T11:04:10.013Z"
   },
   {
    "duration": 55,
    "start_time": "2024-05-31T11:04:27.176Z"
   },
   {
    "duration": 55,
    "start_time": "2024-05-31T11:04:29.798Z"
   },
   {
    "duration": 57,
    "start_time": "2024-05-31T11:04:52.761Z"
   },
   {
    "duration": 54,
    "start_time": "2024-05-31T11:04:54.384Z"
   },
   {
    "duration": 61,
    "start_time": "2024-05-31T11:08:22.078Z"
   },
   {
    "duration": 82,
    "start_time": "2024-05-31T11:08:40.277Z"
   },
   {
    "duration": 72,
    "start_time": "2024-05-31T11:08:57.605Z"
   },
   {
    "duration": 51,
    "start_time": "2024-05-31T11:09:11.317Z"
   },
   {
    "duration": 53,
    "start_time": "2024-05-31T11:10:09.556Z"
   },
   {
    "duration": 51,
    "start_time": "2024-05-31T11:10:33.525Z"
   },
   {
    "duration": 54,
    "start_time": "2024-05-31T11:11:33.849Z"
   },
   {
    "duration": 86,
    "start_time": "2024-05-31T11:13:51.728Z"
   },
   {
    "duration": 52,
    "start_time": "2024-05-31T11:15:22.945Z"
   }
  ],
  "kernelspec": {
   "display_name": "Python 3 (ipykernel)",
   "language": "python",
   "name": "python3"
  },
  "language_info": {
   "codemirror_mode": {
    "name": "ipython",
    "version": 3
   },
   "file_extension": ".py",
   "mimetype": "text/x-python",
   "name": "python",
   "nbconvert_exporter": "python",
   "pygments_lexer": "ipython3",
   "version": "3.9.5"
  },
  "toc": {
   "base_numbering": 1,
   "nav_menu": {},
   "number_sections": true,
   "sideBar": true,
   "skip_h1_title": true,
   "title_cell": "Table of Contents",
   "title_sidebar": "Contents",
   "toc_cell": false,
   "toc_position": {},
   "toc_section_display": true,
   "toc_window_display": false
  }
 },
 "nbformat": 4,
 "nbformat_minor": 5
}
