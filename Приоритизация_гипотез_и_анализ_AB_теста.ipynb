{
 "cells": [
  {
   "cell_type": "markdown",
   "id": "27c0fb73-5601-48ff-871f-7f6609f5e7f2",
   "metadata": {},
   "source": [
    "# Проект: Приоритизация гипотез и анализ A/B-теста"
   ]
  },
  {
   "cell_type": "markdown",
   "id": "0259b24e-54bd-4f46-ba38-c20600fd2d65",
   "metadata": {},
   "source": [
    "# Описание проекта"
   ]
  },
  {
   "cell_type": "markdown",
   "id": "df0f8e56-f281-4e5e-a985-b65c3ffcb3e9",
   "metadata": {},
   "source": [
    "Необходимо провести исследование в качестве аналитика крупного интернет-магазина. <br> \n",
    "Вместе с отделом маркетинга был подготовлен список гипотез для увеличения выручки. Приоритизируйте гипотезы, запустите A/B-тест и проанализируйте результаты."
   ]
  },
  {
   "cell_type": "markdown",
   "id": "1cc9c40a-22d6-4327-b030-392b326fe0d6",
   "metadata": {},
   "source": [
    "# Подготовительный этап"
   ]
  },
  {
   "cell_type": "markdown",
   "id": "6c8a4762",
   "metadata": {},
   "source": [
    "***Импорт библиотек:***"
   ]
  },
  {
   "cell_type": "code",
   "execution_count": 1,
   "id": "c3dd3ab8-b6bb-4ba7-bc87-280d2584e8f2",
   "metadata": {},
   "outputs": [],
   "source": [
    "import pandas as pd\n",
    "import scipy.stats as st\n",
    "import datetime as dt\n",
    "import numpy as np\n",
    "import math as mth\n",
    "import scipy.stats as stats\n",
    "import matplotlib.pyplot as plt\n",
    "from pandas.plotting import register_matplotlib_converters\n",
    "import warnings\n",
    "import seaborn as sns\n",
    "register_matplotlib_converters() # конвертеры, которые позволяют использовать типы pandas в matplotlib"
   ]
  },
  {
   "cell_type": "markdown",
   "id": "ab0f74a1",
   "metadata": {},
   "source": [
    "***Загрузка данных:***"
   ]
  },
  {
   "cell_type": "markdown",
   "id": "3dfb66fa-bce8-4c40-b1a4-8d0696f3f3c5",
   "metadata": {},
   "source": [
    "***Данный раздел в портфолио пропущен во избежание нарушений связанных с интеллектуальной собственностью Яндекс Практикума.***"
   ]
  },
  {
   "cell_type": "markdown",
   "id": "e34c2b76-65a9-402a-b509-d14207addc02",
   "metadata": {},
   "source": [
    "# Часть 1. Приоритизация гипотез"
   ]
  },
  {
   "cell_type": "markdown",
   "id": "ef2a5f7d-193d-4ff8-bf2c-49436695c54b",
   "metadata": {},
   "source": [
    "## 1.1 Условие"
   ]
  },
  {
   "cell_type": "markdown",
   "id": "0dd49ae7-4aae-42e0-8993-c68f4b738848",
   "metadata": {},
   "source": [
    "### Описание задачи"
   ]
  },
  {
   "cell_type": "markdown",
   "id": "aa8211ab-82b3-4cd8-97d7-410be3be97dd",
   "metadata": {},
   "source": [
    "* Примените фреймворк `ICE` для приоритизации гипотез. Отсортируйте их по **убыванию приоритета**.\n",
    "* Примените фреймворк `RICE` для приоритизации гипотез. Отсортируйте их по **убыванию приоритета**.\n",
    "* Укажите, как изменилась приоритизация гипотез при применении `RICE` вместо `ICE`. ***Объясните, почему так произошло***."
   ]
  },
  {
   "cell_type": "markdown",
   "id": "2c3fd6e4-8f72-4200-ad71-e08279845a35",
   "metadata": {},
   "source": [
    "### Описание данных "
   ]
  },
  {
   "cell_type": "markdown",
   "id": "569f84ac-3660-4cc1-aa4d-17d95d8cff92",
   "metadata": {},
   "source": [
    "Файл ***/datasets/hypothesis.csv***: <br>\n",
    "* `Hypothesis` — краткое описание гипотезы;\n",
    "* `Reach` — охват пользователей по **10-балльной** шкале;\n",
    "* `Impact` — влияние на пользователей по **10-балльной** шкале;\n",
    "* `Confidence` — уверенность в гипотезе по **10-балльной** шкале;\n",
    "* `Efforts` — затраты ресурсов на проверку гипотезы по **10-балльной** шкале. Чем **больше** значение `Efforts`, тем дороже проверка гипотезы."
   ]
  },
  {
   "cell_type": "markdown",
   "id": "e73cf31f-9b4e-4cfc-90f6-dfaa53773fab",
   "metadata": {},
   "source": [
    "### Подготовка данных"
   ]
  },
  {
   "cell_type": "markdown",
   "id": "af0f07a7-8555-4be1-ba5d-976263d7dcc1",
   "metadata": {},
   "source": [
    "Приведем названия полей датафрейма к **snake_case**:"
   ]
  },
  {
   "cell_type": "code",
   "execution_count": 3,
   "id": "698f9129-74a8-4ef0-89ba-bbe9164b3fa0",
   "metadata": {},
   "outputs": [],
   "source": [
    "hypothesis = hypothesis.rename(columns={'Hypothesis' : 'hypothesis', 'Reach' : 'reach', 'Impact' : 'impact', 'Confidence' : 'confidence', 'Efforts' : 'efforts'})"
   ]
  },
  {
   "cell_type": "markdown",
   "id": "a198c799-385b-494e-a142-8b18bb8bc20b",
   "metadata": {},
   "source": [
    "## 1.2 Применение фреймворка `ICE`"
   ]
  },
  {
   "cell_type": "markdown",
   "id": "14567bad",
   "metadata": {},
   "source": [
    "***Для приоритизации гипотез сначала воспользуемся фреймворком ICE. Численный показатель данного фреймворка рассчитывается как (Impact * Confidence) / Efforts. Возьмем соответствующие показатели из таблицы hypothesis и рассчитаем ICE score:***"
   ]
  },
  {
   "cell_type": "code",
   "execution_count": 4,
   "id": "14553ce0-3ec5-47ce-9549-911f14d8da91",
   "metadata": {},
   "outputs": [
    {
     "name": "stdout",
     "output_type": "stream",
     "text": [
      "                                          hypothesis        ICE\n",
      "8  Запустить акцию, дающую скидку на товар в день...  16.200000\n",
      "0  Добавить два новых канала привлечения трафика,...  13.333333\n",
      "7  Добавить форму подписки на все основные страни...  11.200000\n",
      "6  Показать на главной странице баннеры с актуаль...   8.000000\n",
      "2  Добавить блоки рекомендаций товаров на сайт ин...   7.000000\n",
      "1  Запустить собственную службу доставки, что сок...   2.000000\n",
      "5  Добавить страницу отзывов клиентов о магазине,...   1.333333\n",
      "3  Изменить структура категорий, что увеличит кон...   1.125000\n",
      "4  Изменить цвет фона главной страницы, чтобы уве...   1.000000\n"
     ]
    }
   ],
   "source": [
    "hypothesis['ICE'] = hypothesis['impact'] * hypothesis['confidence'] / hypothesis['efforts']\n",
    "\n",
    "pd.options.display.max_colwidth = 50\n",
    "print(hypothesis[['hypothesis', 'ICE']].sort_values(by='ICE', ascending=False))"
   ]
  },
  {
   "cell_type": "code",
   "execution_count": 5,
   "id": "5981b8dd-9a31-4ca7-a48f-6b68b79adebd",
   "metadata": {},
   "outputs": [
    {
     "data": {
      "text/plain": [
       "0              Добавить два новых канала привлечения трафика, что позволит привлекать на 30% больше пользователей\n",
       "1                                       Запустить собственную службу доставки, что сократит срок доставки заказов\n",
       "2    Добавить блоки рекомендаций товаров на сайт интернет магазина, чтобы повысить конверсию и средний чек заказа\n",
       "3             Изменить структура категорий, что увеличит конверсию, т.к. пользователи быстрее найдут нужный товар\n",
       "4                                Изменить цвет фона главной страницы, чтобы увеличить вовлеченность пользователей\n",
       "5                        Добавить страницу отзывов клиентов о магазине, что позволит увеличить количество заказов\n",
       "6            Показать на главной странице баннеры с актуальными акциями и распродажами, чтобы увеличить конверсию\n",
       "7                Добавить форму подписки на все основные страницы, чтобы собрать базу клиентов для email-рассылок\n",
       "8                                                         Запустить акцию, дающую скидку на товар в день рождения\n",
       "Name: hypothesis, dtype: object"
      ]
     },
     "metadata": {},
     "output_type": "display_data"
    }
   ],
   "source": [
    "pd.options.display.max_colwidth = 200 # Нашел решение на stackoverflow, есть ли способ лучше отобразить длинные строки текста?\n",
    "display(hypothesis['hypothesis'])"
   ]
  },
  {
   "cell_type": "markdown",
   "id": "033e6764-a15c-4c26-a94d-e265ea034d3d",
   "metadata": {},
   "source": [
    "***`Вывод`:*** <br>\n",
    "Наиболее перспективные гипотезы по `ICE`: **8, 0, 7, 6**."
   ]
  },
  {
   "cell_type": "markdown",
   "id": "02439e13-0161-4923-a276-bec604ae12ff",
   "metadata": {},
   "source": [
    "## 1.3 Применение фреймворка `RICE`"
   ]
  },
  {
   "cell_type": "markdown",
   "id": "341a4493",
   "metadata": {},
   "source": [
    "***Теперь воспользуемся модификацией фреймворка ICE - RICE. Рассчитаем RICE score, взяв данные из таблицы hypothesis, следующим образом: (Reach * Impact * Confidence) / Efforts:***"
   ]
  },
  {
   "cell_type": "code",
   "execution_count": 6,
   "id": "32a6748a-c272-43da-a63f-cd47b9990945",
   "metadata": {},
   "outputs": [
    {
     "name": "stdout",
     "output_type": "stream",
     "text": [
      "                                          hypothesis   RICE\n",
      "7  Добавить форму подписки на все основные страни...  112.0\n",
      "2  Добавить блоки рекомендаций товаров на сайт ин...   56.0\n",
      "0  Добавить два новых канала привлечения трафика,...   40.0\n",
      "6  Показать на главной странице баннеры с актуаль...   40.0\n",
      "8  Запустить акцию, дающую скидку на товар в день...   16.2\n",
      "3  Изменить структура категорий, что увеличит кон...    9.0\n",
      "1  Запустить собственную службу доставки, что сок...    4.0\n",
      "5  Добавить страницу отзывов клиентов о магазине,...    4.0\n",
      "4  Изменить цвет фона главной страницы, чтобы уве...    3.0\n"
     ]
    }
   ],
   "source": [
    "hypothesis['RICE'] = hypothesis['reach'] * hypothesis['impact'] * hypothesis['confidence'] / hypothesis['efforts']\n",
    "\n",
    "pd.options.display.max_colwidth = 50\n",
    "print(hypothesis[['hypothesis', 'RICE']].sort_values(by='RICE', ascending=False))"
   ]
  },
  {
   "cell_type": "markdown",
   "id": "08875916-27cb-457a-be3b-40490caa5241",
   "metadata": {},
   "source": [
    "***`Вывод`:*** <br>\n",
    "Наиболее перспективные гипотезы по `RICE`: **7, 2, 0 и 6**."
   ]
  },
  {
   "cell_type": "markdown",
   "id": "be050b2a-a3f6-440f-a47f-0354e8a6939f",
   "metadata": {},
   "source": [
    "## 1.4 Разница в приоритизации гипотез"
   ]
  },
  {
   "cell_type": "markdown",
   "id": "e0c71ebb-6b40-4d9c-913c-643e5bb552ef",
   "metadata": {},
   "source": [
    "Разница в приоритизации гипотез возникает из-за параметра `Reach`, который характеризует охват пользователей. Соответственно, у некоторых гипотез не такой большой охват, как у других, что сильно влияет на результат при расчете по фреймворку `RICE`"
   ]
  },
  {
   "cell_type": "markdown",
   "id": "e661e02c-8f62-456b-bf26-ce7e7e03b907",
   "metadata": {},
   "source": [
    "# Часть 2. Анализ A/B-теста"
   ]
  },
  {
   "cell_type": "markdown",
   "id": "c2442fe0-b95c-4958-b18a-f40c3c9e43f7",
   "metadata": {},
   "source": [
    "## 2.1 Условие"
   ]
  },
  {
   "cell_type": "markdown",
   "id": "5ffd51d0-8798-4820-8312-7c266b66e35d",
   "metadata": {},
   "source": [
    "### Описание задачи"
   ]
  },
  {
   "cell_type": "markdown",
   "id": "acc5be0a-1fde-45b9-bf5e-415897f246ed",
   "metadata": {},
   "source": [
    "Вы провели **A/B-тест** и получили результаты, которые описаны в файлах ***/datasets/orders.csv*** и ***/datasets/visitors.csv***. <br>\n",
    "Проанализируйте **A/B-тест**: <br>\n",
    "`2.1.1` Постройте график кумулятивной выручки по группам. Сделайте выводы и предположения; <br>\n",
    "`2.1.2` Постройте график кумулятивного среднего чека по группам. Сделайте выводы и предположения; <br>\n",
    "`2.1.3` Постройте график относительного изменения кумулятивного среднего чека группы **B** к группе **A**. Сделайте выводы и предположения; <br>\n",
    "`2.1.4` Постройте график кумулятивного среднего количества заказов на посетителя по группам. Сделайте выводы и предположения; <br>\n",
    "`2.1.5` Постройте график относительного изменения кумулятивного среднего количества заказов на посетителя группы B к группе A. Сделайте выводы и предположения; <br>\n",
    "`2.1.6` Постройте точечный график количества заказов по пользователям. Сделайте выводы и предположения; <br>\n",
    "`2.1.7` Посчитайте 95-й и 99-й перцентили количества заказов на пользователя. Выберите границу для определения аномальных пользователей; <br>\n",
    "`2.1.8` Постройте точечный график стоимостей заказов. Сделайте выводы и предположения; <br>\n",
    "`2.1.9` Посчитайте 95-й и 99-й перцентили стоимости заказов. Выберите границу для определения аномальных заказов; <br>\n",
    "`2.1.10` Посчитайте статистическую значимость различий в среднем количестве заказов на посетителя между группами по «сырым» данным. Сделайте выводы и предположения; <br>\n",
    "`2.1.11` Посчитайте статистическую значимость различий в среднем чеке заказа между группами по «сырым» данным. Сделайте выводы и предположения; <br>\n",
    "`2.1.12` Посчитайте статистическую значимость различий в среднем количестве заказов на посетителя между группами по «очищенным» данным. Сделайте выводы и предположения; <br>\n",
    "`2.1.13` Посчитайте статистическую значимость различий в среднем чеке заказа между группами по «очищенным» данным. Сделайте выводы и предположения; <br>\n",
    "`2.1.14` Примите решение по результатам теста и объясните его. Варианты решений:\n",
    "* Остановить тест, зафиксировать победу одной из групп.\n",
    "* Остановить тест, зафиксировать отсутствие различий между группами.\n",
    "* Продолжить тест."
   ]
  },
  {
   "cell_type": "markdown",
   "id": "0e299148-ceb0-4104-9717-4d8b098abee0",
   "metadata": {},
   "source": [
    "### Описание данных"
   ]
  },
  {
   "cell_type": "markdown",
   "id": "ac4cd8af-7dcd-4373-854a-e732c2f550a5",
   "metadata": {},
   "source": [
    "Файл ***/datasets/orders.csv***: <br>\n",
    "* `transactionId` — идентификатор заказа;\n",
    "* `visitorId` — идентификатор пользователя, совершившего заказ;\n",
    "* `date` — дата, когда был совершён заказ;\n",
    "* `revenue` — выручка заказа;\n",
    "* `group` — группа **A/B-теста**, в которую попал заказ. <br>\n",
    "\n",
    "Файл ***/datasets/visitors.csv***: <br>\n",
    "* `date` — дата;\n",
    "* `group` — группа **A/B-теста**;\n",
    "* `visitors` — количество пользователей в указанную дату в указанной группе **A/B-теста**"
   ]
  },
  {
   "cell_type": "markdown",
   "id": "f8c0aaef-3893-4bbf-a1da-258890a234aa",
   "metadata": {},
   "source": [
    "### Подготовка данных"
   ]
  },
  {
   "cell_type": "markdown",
   "id": "d8ee14f0-e9a1-44eb-8700-8fe3c416385e",
   "metadata": {},
   "source": [
    "#### ***Приводим дату к единому формату:***"
   ]
  },
  {
   "cell_type": "code",
   "execution_count": 7,
   "id": "2531183c-c29b-4439-a7ec-348f5db0ebd2",
   "metadata": {},
   "outputs": [
    {
     "name": "stdout",
     "output_type": "stream",
     "text": [
      "   transactionId   visitorId       date  revenue group\n",
      "0     3667963787  3312258926 2019-08-15     1650     B\n",
      "1     2804400009  3642806036 2019-08-15      730     B\n",
      "2     2961555356  4069496402 2019-08-15      400     A\n",
      "3     3797467345  1196621759 2019-08-15     9759     B\n",
      "4     2282983706  2322279887 2019-08-15     2308     B\n",
      "\n",
      "        date group  visitors\n",
      "0 2019-08-01     A       719\n",
      "1 2019-08-02     A       619\n",
      "2 2019-08-03     A       507\n",
      "3 2019-08-04     A       717\n",
      "4 2019-08-05     A       756\n"
     ]
    }
   ],
   "source": [
    "orders['date'] = orders['date'].map(\n",
    "    lambda x: dt.datetime.strptime(x, '%Y-%m-%d')\n",
    ")\n",
    "\n",
    "visitors['date'] = visitors['date'].map(\n",
    "    lambda x: dt.datetime.strptime(x, '%Y-%m-%d')\n",
    ")\n",
    "\n",
    "print(orders.head(5))\n",
    "print()\n",
    "print(visitors.head(5))"
   ]
  },
  {
   "cell_type": "markdown",
   "id": "aa43554f",
   "metadata": {},
   "source": [
    "#### Производим предобработку данных"
   ]
  },
  {
   "cell_type": "markdown",
   "id": "b4ea3c1d",
   "metadata": {},
   "source": [
    "1. ***Проверяем датафрейм на пропуски и дубликаты.***"
   ]
  },
  {
   "cell_type": "markdown",
   "id": "01b9f022",
   "metadata": {},
   "source": [
    "1.1 ***`orders.csv`***"
   ]
  },
  {
   "cell_type": "code",
   "execution_count": 8,
   "id": "e38243e8",
   "metadata": {},
   "outputs": [
    {
     "name": "stdout",
     "output_type": "stream",
     "text": [
      "<class 'pandas.core.frame.DataFrame'>\n",
      "RangeIndex: 1197 entries, 0 to 1196\n",
      "Data columns (total 5 columns):\n",
      " #   Column         Non-Null Count  Dtype         \n",
      "---  ------         --------------  -----         \n",
      " 0   transactionId  1197 non-null   int64         \n",
      " 1   visitorId      1197 non-null   int64         \n",
      " 2   date           1197 non-null   datetime64[ns]\n",
      " 3   revenue        1197 non-null   int64         \n",
      " 4   group          1197 non-null   object        \n",
      "dtypes: datetime64[ns](1), int64(3), object(1)\n",
      "memory usage: 46.9+ KB\n"
     ]
    }
   ],
   "source": [
    "orders.info()"
   ]
  },
  {
   "cell_type": "code",
   "execution_count": 9,
   "id": "81f6c3dc",
   "metadata": {},
   "outputs": [
    {
     "data": {
      "text/html": [
       "<div>\n",
       "<style scoped>\n",
       "    .dataframe tbody tr th:only-of-type {\n",
       "        vertical-align: middle;\n",
       "    }\n",
       "\n",
       "    .dataframe tbody tr th {\n",
       "        vertical-align: top;\n",
       "    }\n",
       "\n",
       "    .dataframe thead th {\n",
       "        text-align: right;\n",
       "    }\n",
       "</style>\n",
       "<table border=\"1\" class=\"dataframe\">\n",
       "  <thead>\n",
       "    <tr style=\"text-align: right;\">\n",
       "      <th></th>\n",
       "      <th>transactionId</th>\n",
       "      <th>visitorId</th>\n",
       "      <th>date</th>\n",
       "      <th>revenue</th>\n",
       "      <th>group</th>\n",
       "    </tr>\n",
       "  </thead>\n",
       "  <tbody>\n",
       "    <tr>\n",
       "      <th>0</th>\n",
       "      <td>3667963787</td>\n",
       "      <td>3312258926</td>\n",
       "      <td>2019-08-15</td>\n",
       "      <td>1650</td>\n",
       "      <td>B</td>\n",
       "    </tr>\n",
       "    <tr>\n",
       "      <th>1</th>\n",
       "      <td>2804400009</td>\n",
       "      <td>3642806036</td>\n",
       "      <td>2019-08-15</td>\n",
       "      <td>730</td>\n",
       "      <td>B</td>\n",
       "    </tr>\n",
       "    <tr>\n",
       "      <th>2</th>\n",
       "      <td>2961555356</td>\n",
       "      <td>4069496402</td>\n",
       "      <td>2019-08-15</td>\n",
       "      <td>400</td>\n",
       "      <td>A</td>\n",
       "    </tr>\n",
       "    <tr>\n",
       "      <th>3</th>\n",
       "      <td>3797467345</td>\n",
       "      <td>1196621759</td>\n",
       "      <td>2019-08-15</td>\n",
       "      <td>9759</td>\n",
       "      <td>B</td>\n",
       "    </tr>\n",
       "    <tr>\n",
       "      <th>4</th>\n",
       "      <td>2282983706</td>\n",
       "      <td>2322279887</td>\n",
       "      <td>2019-08-15</td>\n",
       "      <td>2308</td>\n",
       "      <td>B</td>\n",
       "    </tr>\n",
       "  </tbody>\n",
       "</table>\n",
       "</div>"
      ],
      "text/plain": [
       "   transactionId   visitorId       date  revenue group\n",
       "0     3667963787  3312258926 2019-08-15     1650     B\n",
       "1     2804400009  3642806036 2019-08-15      730     B\n",
       "2     2961555356  4069496402 2019-08-15      400     A\n",
       "3     3797467345  1196621759 2019-08-15     9759     B\n",
       "4     2282983706  2322279887 2019-08-15     2308     B"
      ]
     },
     "execution_count": 9,
     "metadata": {},
     "output_type": "execute_result"
    }
   ],
   "source": [
    "orders.head()"
   ]
  },
  {
   "cell_type": "code",
   "execution_count": 10,
   "id": "b74d8d4c",
   "metadata": {},
   "outputs": [
    {
     "data": {
      "text/plain": [
       "0"
      ]
     },
     "execution_count": 10,
     "metadata": {},
     "output_type": "execute_result"
    }
   ],
   "source": [
    "orders.duplicated().sum()"
   ]
  },
  {
   "cell_type": "markdown",
   "id": "9e901290",
   "metadata": {},
   "source": [
    "***`Вывод`:*** <br>\n",
    "В датафрейме `orders.csv` дубликатов и пропусков не выявлено, все колонки приведены к регистру **snake_case**."
   ]
  },
  {
   "cell_type": "markdown",
   "id": "ef745221",
   "metadata": {},
   "source": [
    "1.2 ***`visitors.csv`***"
   ]
  },
  {
   "cell_type": "code",
   "execution_count": 11,
   "id": "b3dd70df",
   "metadata": {},
   "outputs": [
    {
     "name": "stdout",
     "output_type": "stream",
     "text": [
      "<class 'pandas.core.frame.DataFrame'>\n",
      "RangeIndex: 62 entries, 0 to 61\n",
      "Data columns (total 3 columns):\n",
      " #   Column    Non-Null Count  Dtype         \n",
      "---  ------    --------------  -----         \n",
      " 0   date      62 non-null     datetime64[ns]\n",
      " 1   group     62 non-null     object        \n",
      " 2   visitors  62 non-null     int64         \n",
      "dtypes: datetime64[ns](1), int64(1), object(1)\n",
      "memory usage: 1.6+ KB\n"
     ]
    }
   ],
   "source": [
    "visitors.info()"
   ]
  },
  {
   "cell_type": "code",
   "execution_count": 12,
   "id": "87a0eff6",
   "metadata": {},
   "outputs": [
    {
     "data": {
      "text/html": [
       "<div>\n",
       "<style scoped>\n",
       "    .dataframe tbody tr th:only-of-type {\n",
       "        vertical-align: middle;\n",
       "    }\n",
       "\n",
       "    .dataframe tbody tr th {\n",
       "        vertical-align: top;\n",
       "    }\n",
       "\n",
       "    .dataframe thead th {\n",
       "        text-align: right;\n",
       "    }\n",
       "</style>\n",
       "<table border=\"1\" class=\"dataframe\">\n",
       "  <thead>\n",
       "    <tr style=\"text-align: right;\">\n",
       "      <th></th>\n",
       "      <th>date</th>\n",
       "      <th>group</th>\n",
       "      <th>visitors</th>\n",
       "    </tr>\n",
       "  </thead>\n",
       "  <tbody>\n",
       "    <tr>\n",
       "      <th>0</th>\n",
       "      <td>2019-08-01</td>\n",
       "      <td>A</td>\n",
       "      <td>719</td>\n",
       "    </tr>\n",
       "    <tr>\n",
       "      <th>1</th>\n",
       "      <td>2019-08-02</td>\n",
       "      <td>A</td>\n",
       "      <td>619</td>\n",
       "    </tr>\n",
       "    <tr>\n",
       "      <th>2</th>\n",
       "      <td>2019-08-03</td>\n",
       "      <td>A</td>\n",
       "      <td>507</td>\n",
       "    </tr>\n",
       "    <tr>\n",
       "      <th>3</th>\n",
       "      <td>2019-08-04</td>\n",
       "      <td>A</td>\n",
       "      <td>717</td>\n",
       "    </tr>\n",
       "    <tr>\n",
       "      <th>4</th>\n",
       "      <td>2019-08-05</td>\n",
       "      <td>A</td>\n",
       "      <td>756</td>\n",
       "    </tr>\n",
       "  </tbody>\n",
       "</table>\n",
       "</div>"
      ],
      "text/plain": [
       "        date group  visitors\n",
       "0 2019-08-01     A       719\n",
       "1 2019-08-02     A       619\n",
       "2 2019-08-03     A       507\n",
       "3 2019-08-04     A       717\n",
       "4 2019-08-05     A       756"
      ]
     },
     "execution_count": 12,
     "metadata": {},
     "output_type": "execute_result"
    }
   ],
   "source": [
    "visitors.head()"
   ]
  },
  {
   "cell_type": "code",
   "execution_count": 13,
   "id": "2d94da86",
   "metadata": {},
   "outputs": [
    {
     "data": {
      "text/plain": [
       "0"
      ]
     },
     "execution_count": 13,
     "metadata": {},
     "output_type": "execute_result"
    }
   ],
   "source": [
    "visitors.duplicated().sum()"
   ]
  },
  {
   "cell_type": "markdown",
   "id": "a668f17e",
   "metadata": {},
   "source": [
    "***`Вывод`:*** <br>\n",
    "В датафрейме `visitors.csv` дубликатов и пропусков не выявлено, все колонки приведены к регистру **snake_case**."
   ]
  },
  {
   "cell_type": "markdown",
   "id": "9de921fe",
   "metadata": {},
   "source": [
    "2. ***Проверяем корректность разбиения пользователей на группы.***"
   ]
  },
  {
   "cell_type": "code",
   "execution_count": 14,
   "id": "c05d9b1f",
   "metadata": {},
   "outputs": [
    {
     "data": {
      "text/plain": [
       "group    58\n",
       "dtype: int64"
      ]
     },
     "execution_count": 14,
     "metadata": {},
     "output_type": "execute_result"
    }
   ],
   "source": [
    "orders.groupby('visitorId').agg({'group' : 'nunique'}).query('group > 1').count()"
   ]
  },
  {
   "cell_type": "markdown",
   "id": "5bb11caf",
   "metadata": {},
   "source": [
    "58 пользователей принадлежат обеим группам. Удалим этих пользователей из обеих групп:"
   ]
  },
  {
   "cell_type": "code",
   "execution_count": 15,
   "id": "9c1d042e",
   "metadata": {},
   "outputs": [],
   "source": [
    "ab_users = orders.groupby('visitorId').agg({'group' : 'nunique'}).reset_index().query('group > 1')['visitorId'].unique()\n",
    "\n",
    "orders = orders.query('visitorId not in @ab_users')"
   ]
  },
  {
   "cell_type": "markdown",
   "id": "cc4b866f-a070-4619-8ad5-a13203d6c1e3",
   "metadata": {},
   "source": [
    "#### ***Создаем датафрейм `datesGroups` с уникальными парами значений `date` и `group` таблицы `orders`:***"
   ]
  },
  {
   "cell_type": "code",
   "execution_count": 16,
   "id": "2e56d995-8030-453b-be7b-9034acffffa4",
   "metadata": {},
   "outputs": [],
   "source": [
    "datesGroups = orders[['date','group']].drop_duplicates() "
   ]
  },
  {
   "cell_type": "markdown",
   "id": "a179e6d6-ceaf-4c27-bc05-dcf76e22cf96",
   "metadata": {},
   "source": [
    "3) ***Объявляем переменную `ordersAggregated`, которая содержит:*** <br>\n",
    "* дату;\n",
    "* группу A/B теста;\n",
    "* число уникальных пользователей, совершивших хотя бы 1 заказ в группе теста по указанную дату включительно;\n",
    "* суммарную выручку заказов в группе теста по указанную дату включительно."
   ]
  },
  {
   "cell_type": "code",
   "execution_count": 17,
   "id": "41efeb01-40c1-47f1-bd0b-456dab34d5fa",
   "metadata": {},
   "outputs": [],
   "source": [
    "ordersAggregated = datesGroups.apply(lambda x: orders[np.logical_and(orders['date'] <= x['date'], orders['group'] == x['group'])]\\\n",
    "                                     .agg({'date' : 'max', 'group' : 'max', 'transactionId' : 'nunique', 'visitorId' : 'nunique', 'revenue' : 'sum'}), axis=1).sort_values(by=['date','group']) "
   ]
  },
  {
   "cell_type": "markdown",
   "id": "0164cfc7-9130-401e-a673-e0a0926b60d4",
   "metadata": {},
   "source": [
    "#### ***Объявляем переменную `visitorsAggregated`, которая содержит:*** <br>\n",
    "* дату;\n",
    "* группу A/B теста;\n",
    "* количество уникальных посетителей в группе теста по указанную дату включительно."
   ]
  },
  {
   "cell_type": "code",
   "execution_count": 18,
   "id": "902abb4d-efb2-4573-889e-9eb434719e48",
   "metadata": {},
   "outputs": [],
   "source": [
    "visitorsAggregated = datesGroups.apply(lambda x: visitors[np.logical_and(visitors['date'] <= x['date'], visitors['group'] == x['group'])]\\\n",
    "                                       .agg({'date' : 'max', 'group' : 'max', 'visitors' : 'sum'}), axis=1).sort_values(by=['date','group'])"
   ]
  },
  {
   "cell_type": "markdown",
   "id": "e5ecbcc8-aaa4-40a7-bb12-cc691d520759",
   "metadata": {},
   "source": [
    "#### ***Объединяем две предыдущие таблицы в одну методом merge() в переменной `cumulativeData`, присваиваем столбцам корректные названия:***"
   ]
  },
  {
   "cell_type": "code",
   "execution_count": 19,
   "id": "09b89e88-6365-4567-9c6a-80e79c636697",
   "metadata": {},
   "outputs": [
    {
     "name": "stdout",
     "output_type": "stream",
     "text": [
      "        date group  orders  buyers  revenue  visitors\n",
      "0 2019-08-01     A      23      19   142779       719\n",
      "1 2019-08-01     B      17      17    59758       713\n",
      "2 2019-08-02     A      42      36   234381      1338\n",
      "3 2019-08-02     B      40      39   221801      1294\n",
      "4 2019-08-03     A      66      60   346854      1845\n"
     ]
    }
   ],
   "source": [
    "cumulativeData = ordersAggregated.merge(visitorsAggregated, left_on=['date', 'group'], right_on=['date', 'group'])\n",
    "\n",
    "cumulativeData.columns = ['date', 'group', 'orders', 'buyers', 'revenue', 'visitors']\n",
    "\n",
    "print(cumulativeData.head())"
   ]
  },
  {
   "cell_type": "markdown",
   "id": "e40a5085-9d68-4847-9baa-5d3575e529dc",
   "metadata": {},
   "source": [
    "## 2.1.1 График кумулятивной выручки по группам"
   ]
  },
  {
   "cell_type": "markdown",
   "id": "5319062e-9092-4e48-8fa4-38b07370c3de",
   "metadata": {},
   "source": [
    "***Объявляем переменные `cumulativeRevenueA` и `cumulativeRevenueB`, в которых содержатся данные о датах, выручке и числе заказов в группах A и B:***"
   ]
  },
  {
   "cell_type": "code",
   "execution_count": 20,
   "id": "b4039a96-c6f1-44f6-84d9-7a7dc4d04d41",
   "metadata": {},
   "outputs": [],
   "source": [
    "# датафрейм с кумулятивным количеством заказов и кумулятивной выручкой по дням в группе А\n",
    "cumulativeRevenueA = cumulativeData[cumulativeData['group']=='A'][['date','revenue', 'orders']]\n",
    "\n",
    "# датафрейм с кумулятивным количеством заказов и кумулятивной выручкой по дням в группе B\n",
    "cumulativeRevenueB = cumulativeData[cumulativeData['group']=='B'][['date','revenue', 'orders']]"
   ]
  },
  {
   "cell_type": "markdown",
   "id": "3334eb03-2941-47f7-997a-76e21a50dffb",
   "metadata": {},
   "source": [
    "***Строим графики кумулятивной выручки по группам:***"
   ]
  },
  {
   "cell_type": "code",
   "execution_count": 21,
   "id": "963cb694-710d-44af-83a1-8d3e4f8158bd",
   "metadata": {},
   "outputs": [
    {
     "data": {
      "image/png": "[encoded data removed]",
      "text/plain": [
       "<Figure size 1080x360 with 1 Axes>"
      ]
     },
     "metadata": {
      "needs_background": "light"
     },
     "output_type": "display_data"
    }
   ],
   "source": [
    "# Строим график кумулятивной выручки группы А\n",
    "sns.lineplot(data=cumulativeRevenueA, x=cumulativeRevenueA['date'], y=cumulativeRevenueA['revenue'], label='A')\n",
    "\n",
    "# Строим график кумулятивной выручки группы B\n",
    "sns.lineplot(data=cumulativeRevenueB, x=cumulativeRevenueB['date'], y=cumulativeRevenueB['revenue'], label='B')\n",
    "\n",
    "fig=plt.gcf()\n",
    "fig.set_size_inches(15, 5)\n",
    "plt.title('График кумулятивной выручки по группам')\n",
    "plt.ylabel('Кумулятивная выручка')\n",
    "plt.xlabel('Дата')\n",
    "plt.legend()\n",
    "plt.show()"
   ]
  },
  {
   "cell_type": "markdown",
   "id": "ab1cccbc-c4b2-4221-81ba-ff7c5c4dbc55",
   "metadata": {},
   "source": [
    "***`Вывод`:*** <br>\n",
    "После **17 августа** виден резкий скачок в показателе кумулятивной выручки группы B. Возможно, имеют место аномально объемные заказы, которые сильно влияют на результаты теста."
   ]
  },
  {
   "cell_type": "markdown",
   "id": "a5046b12-16d9-4283-8cbf-60c4701cf62a",
   "metadata": {},
   "source": [
    "## 2.1.2 График кумулятивного среднего чека по группам"
   ]
  },
  {
   "cell_type": "code",
   "execution_count": 22,
   "id": "4dde5f3a-ac7f-49f5-b2c7-788434ebba1c",
   "metadata": {},
   "outputs": [
    {
     "data": {
      "image/png": "[encoded data removed]",
      "text/plain": [
       "<Figure size 1080x360 with 1 Axes>"
      ]
     },
     "metadata": {
      "needs_background": "light"
     },
     "output_type": "display_data"
    }
   ],
   "source": [
    "# Строим график кумулятивного среднего чека группы А\n",
    "sns.lineplot(data=cumulativeRevenueA, x=cumulativeRevenueA['date'], y=cumulativeRevenueA['revenue']/cumulativeRevenueA['orders'], label='A')\n",
    "\n",
    "# Строим график кумулятивного среднего чека группы B\n",
    "sns.lineplot(data=cumulativeRevenueB, x=cumulativeRevenueB['date'], y=cumulativeRevenueB['revenue']/cumulativeRevenueB['orders'], label='B')\n",
    "\n",
    "fig=plt.gcf()\n",
    "fig.set_size_inches(15, 5)\n",
    "plt.title('График кумулятивного среднего чека по группам')\n",
    "plt.ylabel('Кумулятивная средняя сумма чека')\n",
    "plt.xlabel('Дата')\n",
    "plt.legend()\n",
    "plt.show()"
   ]
  },
  {
   "cell_type": "markdown",
   "id": "b984c8af-1c53-4bd4-9918-7abe00bd60b7",
   "metadata": {},
   "source": [
    "***`Вывод`:*** <br>\n",
    "Аномальный рост в группе B по среднему чеку на этом графике заметен еще сильнее, соответственно, выводы делать нельзя до обработки возможных выбросов."
   ]
  },
  {
   "cell_type": "markdown",
   "id": "294bb8dd-167c-4ed6-a8f3-325dff62a4ae",
   "metadata": {},
   "source": [
    "## 2.1.3 График относительного изменения кумулятивного среднего чека группы B к группе A"
   ]
  },
  {
   "cell_type": "markdown",
   "id": "e25b3024-19b8-48dc-b5b2-460675f6f672",
   "metadata": {},
   "source": [
    "***Объединим таблицы `cumulativeRvenueA` и `cumulativeRevenueB` методом merge в одну таблицу, в которой содержатся столбцы `date`, `revenueA`, `revenueB`, `ordersA`, `ordersB` и сохраним ее в переменную `mergedCumulativeRevenue`:***"
   ]
  },
  {
   "cell_type": "code",
   "execution_count": 23,
   "id": "79904c3c-3296-4667-a83d-01726c92b363",
   "metadata": {},
   "outputs": [],
   "source": [
    "mergedCumulativeRevenue = cumulativeRevenueA.merge(cumulativeRevenueB, left_on='date', right_on='date', how='left', suffixes=['A', 'B'])"
   ]
  },
  {
   "cell_type": "markdown",
   "id": "2e998b5c-a119-4d6a-a8d6-431dc3c3138f",
   "metadata": {},
   "source": [
    "***Построим график относительного изменения кумулятивного среднего чека группы B к группе A по таблице из `mergedCumulativeRevenue`:***"
   ]
  },
  {
   "cell_type": "code",
   "execution_count": 24,
   "id": "a3785fce-374a-4172-9281-78f3a80ce2e9",
   "metadata": {},
   "outputs": [
    {
     "data": {
      "image/png": "[encoded data removed]",
      "text/plain": [
       "<Figure size 1080x360 with 1 Axes>"
      ]
     },
     "metadata": {
      "needs_background": "light"
     },
     "output_type": "display_data"
    }
   ],
   "source": [
    "sns.lineplot(data=mergedCumulativeRevenue, x=mergedCumulativeRevenue['date'], y=(mergedCumulativeRevenue['revenueB']/mergedCumulativeRevenue['ordersB'])/(mergedCumulativeRevenue['revenueA']/mergedCumulativeRevenue['ordersA'])-1)\n",
    "\n",
    "fig=plt.gcf()\n",
    "fig.set_size_inches(15, 5)\n",
    "plt.title('График относительного изменения кумулятивного среднего чека группы B к группе A')\n",
    "plt.ylabel('Изменение')\n",
    "plt.xlabel('Дата')\n",
    "plt.axhline(y=0, color='black', linestyle='--')\n",
    "plt.show()"
   ]
  },
  {
   "cell_type": "markdown",
   "id": "999b9edc-7fed-402a-8b30-9cf4ed0f91a9",
   "metadata": {},
   "source": [
    "***`Вывод`:*** <br>\n",
    "На данном графике прослеживаются скачки в определенные даты. Можно предположить, что аномальные заказы были совершены именно в эти даты."
   ]
  },
  {
   "cell_type": "markdown",
   "id": "9010d55b-5b45-4e6b-b55e-6f0f51c15cf5",
   "metadata": {},
   "source": [
    "## 2.1.4 График кумулятивного среднего количества заказов на посетителя по группам"
   ]
  },
  {
   "cell_type": "markdown",
   "id": "b55f0c10-11b8-4a6c-ad0d-b031cf7b8b08",
   "metadata": {},
   "source": [
    "***Добавим в таблицу `cumulativeData` столбец `conversion` с отношением числа заказов к количеству пользователей в указанной группе в указанный день, а также объявим переменные `cumulativeDataA` и `cumulativeDataB`, в которых сохранены данные о заказах в сегментах А и В соответственно:***"
   ]
  },
  {
   "cell_type": "code",
   "execution_count": 25,
   "id": "d271744c-d954-486e-b1d6-1851f898372c",
   "metadata": {},
   "outputs": [],
   "source": [
    "# считаем среднее количество заказов на посетителя\n",
    "cumulativeData['conversion'] = cumulativeData['orders']/cumulativeData['visitors']\n",
    "\n",
    "# отделяем данные по группе A\n",
    "cumulativeDataA = cumulativeData[cumulativeData['group']=='A']\n",
    "\n",
    "# отделяем данные по группе B\n",
    "cumulativeDataB = cumulativeData[cumulativeData['group']=='B']"
   ]
  },
  {
   "cell_type": "markdown",
   "id": "bb025111-bdf3-4c07-b8d0-65f739362970",
   "metadata": {},
   "source": [
    "***Построим графики кумулятивного среднего количества заказов на посетителя по группам и по дням:***"
   ]
  },
  {
   "cell_type": "code",
   "execution_count": 26,
   "id": "7e5844e6-cea3-4da5-a1ae-1a64ad808207",
   "metadata": {},
   "outputs": [
    {
     "data": {
      "image/png": "[encoded data removed]",
      "text/plain": [
       "<Figure size 1080x360 with 1 Axes>"
      ]
     },
     "metadata": {
      "needs_background": "light"
     },
     "output_type": "display_data"
    }
   ],
   "source": [
    "sns.lineplot(data=cumulativeDataA, x=cumulativeDataA['date'], y=cumulativeDataA['conversion'], label='A')\n",
    "sns.lineplot(data=cumulativeDataB, x=cumulativeDataB['date'], y=cumulativeDataB['conversion'], label='B')\n",
    "\n",
    "# задаем масштаб осей\n",
    "plt.axis([dt.datetime(2019, 8, 1), dt.datetime(2019, 9, 1), 0, 0.05])\n",
    "\n",
    "fig=plt.gcf()\n",
    "fig.set_size_inches(15, 5)\n",
    "plt.title('График кумулятивного среднего количества заказов на посетителя по группам')\n",
    "plt.ylabel('Количество заказов')\n",
    "plt.xlabel('Дата')\n",
    "plt.legend()\n",
    "plt.show()"
   ]
  },
  {
   "cell_type": "markdown",
   "id": "867c186e-224e-4fd2-8519-60bd6dcf9aaf",
   "metadata": {},
   "source": [
    "***`Вывод`:*** <br>\n",
    "В начале теста группа А имела большее кумулятивное среднее количество заказов, но через полторы недели (около 2019-08-10) данный параметр выровнялся для группы В и зафиксировался на отметке выше группы А (выше примерно на половину сегмента). <br> \n",
    "Для графика масштаб был установлен таким образом, чтобы было видно, что абсолютное значение колебания кумулятивного среднего количества заказов в начале и конце теста совсем не большое - примерно от 3% до 3,75%, и что среднее количество заказов по группам установилось около своего среднего значения.   "
   ]
  },
  {
   "cell_type": "markdown",
   "id": "8f1d83a7-4e88-4244-a2c8-b0453ca421bd",
   "metadata": {},
   "source": [
    "## 2.1.5 График относительного изменения кумулятивного среднего количества заказов на посетителя группы B к группе А"
   ]
  },
  {
   "cell_type": "markdown",
   "id": "b14c561b-29c7-48fa-9fe4-7d9361da8d45",
   "metadata": {},
   "source": [
    "***Объединим таблицы `cumulativeDataA` и `cumulativeDataB` методом merge(), сохраняем в переменную `mergedCumulativeConversions`:***"
   ]
  },
  {
   "cell_type": "code",
   "execution_count": 27,
   "id": "2a6f0f94-f78c-4b75-9694-e25f26f54f00",
   "metadata": {},
   "outputs": [],
   "source": [
    "mergedCumulativeConversions = cumulativeDataA[['date','conversion']].merge(cumulativeDataB[['date','conversion']], left_on='date', right_on='date', how='left', suffixes=['A', 'B'])"
   ]
  },
  {
   "cell_type": "markdown",
   "id": "cd1b9136-484a-4b8a-9897-41a69714c849",
   "metadata": {},
   "source": [
    "***Построим график относительного изменения кумулятивного среднего количества заказов на посетителя группы В к группе А:***"
   ]
  },
  {
   "cell_type": "code",
   "execution_count": 28,
   "id": "1f00adb0-f7ea-474b-9f7a-99505fefd678",
   "metadata": {},
   "outputs": [
    {
     "data": {
      "image/png": "[encoded data removed]",
      "text/plain": [
       "<Figure size 1080x360 with 1 Axes>"
      ]
     },
     "metadata": {
      "needs_background": "light"
     },
     "output_type": "display_data"
    }
   ],
   "source": [
    "sns.lineplot(data=mergedCumulativeConversions, x=mergedCumulativeConversions['date'], y=mergedCumulativeConversions['conversionB']/mergedCumulativeConversions['conversionA']-1, label=\"Относительный прирост кумулятивного среднего количества заказов на посетителя группы B относительно группы A\")\n",
    "\n",
    "fig=plt.gcf()\n",
    "fig.set_size_inches(15, 5)\n",
    "plt.axhline(y=0, color='black', linestyle='--')\n",
    "plt.axhline(y=0.2, color='grey', linestyle='--')\n",
    "plt.axis([\"2019-08-01\", '2019-09-01', -0.5, 0.5])\n",
    "plt.title('График относительного изменения кумулятивного среднего количества заказов на посетителя группы В к группе А')\n",
    "plt.ylabel('Значение')\n",
    "plt.xlabel('Дата')\n",
    "plt.legend()\n",
    "plt.show()"
   ]
  },
  {
   "cell_type": "markdown",
   "id": "4a613271-c8e4-4f8c-99e3-4a413479d915",
   "metadata": {},
   "source": [
    "***`Вывод`:*** <br>\n",
    "После небольшого проседания группа В стала лидировать по метрике. Пик пришелся на **2019-08-14** и продлился до **2019-08-17**, затем произошел небольшой спад, и прирост зафиксировался где-то на отметке 15% относительно группы А."
   ]
  },
  {
   "cell_type": "markdown",
   "id": "e97463a2-85d9-487c-a19b-1b1cc4608b82",
   "metadata": {},
   "source": [
    "## 2.1.6 Точечный график количества заказов по пользователям"
   ]
  },
  {
   "cell_type": "markdown",
   "id": "ea271971-73bd-4ca5-aee2-4b31e86d7fd3",
   "metadata": {},
   "source": [
    "***Найдем число заказов по пользователям путем создания датафрейма `transactionsByVisitors` с двумя столбцами: `visitorId` и `transactions`:***"
   ]
  },
  {
   "cell_type": "code",
   "execution_count": 29,
   "id": "7985e119-105e-4a3e-98d1-0ec75ca81420",
   "metadata": {},
   "outputs": [
    {
     "name": "stdout",
     "output_type": "stream",
     "text": [
      "      visitorId  transactions\n",
      "908  3967698036             3\n",
      "55    249864742             3\n",
      "478  2108163459             3\n",
      "687  2988190573             3\n",
      "890  3908431265             3\n",
      "138   611059232             3\n",
      "632  2742574263             3\n",
      "157   678354126             2\n",
      "323  1404560065             2\n",
      "452  1985475298             2\n"
     ]
    }
   ],
   "source": [
    "transactionsByVisitors = (\n",
    "    orders.groupby('visitorId', as_index=False).agg({'transactionId': 'nunique'})\n",
    ")\n",
    "\n",
    "transactionsByVisitors.columns = ['visitorId', 'transactions']\n",
    "\n",
    "print(transactionsByVisitors.sort_values(by='transactions', ascending=False).head(10)) "
   ]
  },
  {
   "cell_type": "markdown",
   "id": "eba1c91b-6a94-4f13-abf5-a4da39bac004",
   "metadata": {},
   "source": [
    "***Построим scatter-диаграмму распределения числа заказов по пользователям:***"
   ]
  },
  {
   "cell_type": "code",
   "execution_count": 30,
   "id": "8cacabf3-734b-4ae3-9050-79aa9d45fb35",
   "metadata": {},
   "outputs": [
    {
     "data": {
      "image/png": "[encoded data removed]",
      "text/plain": [
       "<Figure size 1080x360 with 1 Axes>"
      ]
     },
     "metadata": {
      "needs_background": "light"
     },
     "output_type": "display_data"
    }
   ],
   "source": [
    "# x-values - сгенерированные номера наблюдений\n",
    "x_values = pd.Series(range(0,len(transactionsByVisitors)))\n",
    "\n",
    "#plt.scatter(x_values, transactionsByVisitors['transactions']) \n",
    "\n",
    "sns.scatterplot(data=transactionsByVisitors, x=x_values, y=transactionsByVisitors['transactions'])\n",
    "\n",
    "fig=plt.gcf()\n",
    "fig.set_size_inches(15, 5)\n",
    "plt.title('Точечный график количества заказов по пользователям')\n",
    "plt.ylabel('Количество транзакций')\n",
    "plt.xlabel('Количество наблюдений')\n",
    "plt.show()"
   ]
  },
  {
   "cell_type": "markdown",
   "id": "69b4375f-e09b-45d6-a19c-83352c29ed32",
   "metadata": {},
   "source": [
    "***`Вывод`:*** <br>\n",
    "На графике видно, что три заказа и более совершило относительно малое количество пользователей. Далее необходимо проверить, насколько редки такие случае, посчитав выборочные процентили."
   ]
  },
  {
   "cell_type": "markdown",
   "id": "0c750dbe-1a3e-4f39-8784-ad81a3bbce35",
   "metadata": {},
   "source": [
    "## 2.1.7 Расчет 95-го и 99-го перцентилей количества заказов на пользователя"
   ]
  },
  {
   "cell_type": "code",
   "execution_count": 31,
   "id": "5e0c7b9c-f1a7-4b37-82ba-04f9f3d95926",
   "metadata": {},
   "outputs": [
    {
     "name": "stdout",
     "output_type": "stream",
     "text": [
      "      visitorId  transactions\n",
      "908  3967698036             3\n",
      "55    249864742             3\n",
      "478  2108163459             3\n",
      "687  2988190573             3\n",
      "890  3908431265             3\n",
      "138   611059232             3\n",
      "632  2742574263             3\n",
      "157   678354126             2\n",
      "323  1404560065             2\n",
      "452  1985475298             2\n",
      "\n",
      "[1. 2. 2.]\n"
     ]
    }
   ],
   "source": [
    "print(transactionsByVisitors.sort_values(by='transactions', ascending=False).head(10)) \n",
    "print()\n",
    "# Добавляем 98-й процентиль, так как визуально по графику есть некоторое количество пользователей, которые оформляли 3 заказа\n",
    "print(np.percentile(transactionsByVisitors['transactions'], [95, 97, 99])) "
   ]
  },
  {
   "cell_type": "markdown",
   "id": "3aa80c43-95fd-4aeb-8006-d08661c5b926",
   "metadata": {},
   "source": [
    "***`Вывод`:*** <br>\n",
    "Не более **5%** пользователей совершали больше **1 заказа**, не более **1%** и **3%** пользователей - больше **двух**. <br>\n",
    "Так как пользователи, заказывавшие 2 и более заказа уже составляют незначительную группу относительно основной (~4%), устанавливаем верхнюю границу для определения аномальных пользователей на отметке `2 заказа`. "
   ]
  },
  {
   "cell_type": "markdown",
   "id": "691f1537-48fe-483b-ae81-be75315a6be0",
   "metadata": {},
   "source": [
    "## 2.1.8 Точечный график стоимостей заказов"
   ]
  },
  {
   "cell_type": "code",
   "execution_count": 32,
   "id": "c5dda424-0890-4efb-b998-0eeacea9e07e",
   "metadata": {},
   "outputs": [
    {
     "name": "stdout",
     "output_type": "stream",
     "text": [
      "      transactionId   visitorId       date  revenue group\n",
      "425       590470918  1920142716 2019-08-19  1294500     B\n",
      "1196     3936777065  2108080724 2019-08-15   202740     B\n",
      "1136      666610489  1307669133 2019-08-13    92550     A\n",
      "744      3668308183   888512513 2019-08-27    86620     B\n",
      "743      3603576309  4133034833 2019-08-09    67990     A\n",
      "1103     1348774318  1164614297 2019-08-12    66350     A\n",
      "1099      316924019   148427295 2019-08-12    65710     A\n",
      "949      1347999392   887908475 2019-08-21    60450     A\n",
      "940      2420050534  4003628586 2019-08-08    58550     B\n",
      "131      3163614039  2254586615 2019-08-22    53904     A\n"
     ]
    },
    {
     "data": {
      "image/png": "[encoded data removed]",
      "text/plain": [
       "<Figure size 1080x360 with 1 Axes>"
      ]
     },
     "metadata": {
      "needs_background": "light"
     },
     "output_type": "display_data"
    }
   ],
   "source": [
    "print(orders.sort_values(by='revenue', ascending=False).head(10))\n",
    "\n",
    "x_values = pd.Series(range(0, len(orders['revenue'])))\n",
    "\n",
    "sns.scatterplot(data=orders, x=x_values, y=orders['revenue'])\n",
    "\n",
    "fig=plt.gcf()\n",
    "fig.set_size_inches(15, 5)\n",
    "plt.title('Точечный график стоимостей заказов')\n",
    "plt.ylabel('Величина транзакции')\n",
    "plt.xlabel('Количество наблюдений')\n",
    "plt.show()"
   ]
  },
  {
   "cell_type": "markdown",
   "id": "eeaba1a8-1966-48d4-b0fe-5e559ee12fa1",
   "metadata": {},
   "source": [
    "***`Вывод`:*** <br>\n",
    "Заказов более **~70 000 рублей** достаточно мало. Присутствует выброс в отметке **~1 300 000 рублей**. Данный показатель является явной аномалией и сильно влияет на результаты теста, необходимо найти выборочные процентили и исключить аномалии из выборки."
   ]
  },
  {
   "cell_type": "markdown",
   "id": "81ef8448-e67e-4181-a8ba-9ecb73f4273e",
   "metadata": {},
   "source": [
    "## 2.1.9 Расчет 95-го и 99-го перцентилей стоимости заказов"
   ]
  },
  {
   "cell_type": "code",
   "execution_count": 33,
   "id": "5c4a4931-9d9c-416e-8cbf-8eb142e0283b",
   "metadata": {},
   "outputs": [
    {
     "name": "stdout",
     "output_type": "stream",
     "text": [
      "[26785. 34792. 53904.]\n"
     ]
    }
   ],
   "source": [
    "print(np.percentile(orders['revenue'], [95, 97, 99])) "
   ]
  },
  {
   "cell_type": "markdown",
   "id": "cf1e9d96-c539-4a05-b53a-9b886bd2e12e",
   "metadata": {},
   "source": [
    "***`Вывод`:*** <br>\n",
    "Не более **5%** пользователей совершили транзакции на сумму более `26 786 рублей`, не более **3%** пользователей совершили транзакции на сумму более `34 792 рубля`, не более **1%** пользователей совершили транзакции на сумму более `53 904 рублей`.  \n",
    "Устанавливаем верхнюю границу для определения аномальных заказов - `34 792 рубля`."
   ]
  },
  {
   "cell_type": "markdown",
   "id": "7c8e1b23-bec9-416b-9466-1eeac080f708",
   "metadata": {},
   "source": [
    "## 2.1.10 Расчет статистической значимости различий в среднем количестве заказов на посетителя между группами по \"сырым\" данным"
   ]
  },
  {
   "cell_type": "markdown",
   "id": "b0516c6c-b11b-41ff-83a4-87b8998a96f5",
   "metadata": {},
   "source": [
    "***Посчитаем статистическую значимость различий в среднем числе заказов на пользователя по «сырым» данным — без удаления аномальных пользователей.\n",
    "Сформулируем гипотезы. Нулевая (H0): различий в среднем количестве заказов между группами нет. Альтернативная (H1): различия в среднем между группами есть.***\n",
    "\n",
    "***Создадим два датафрейма - `transactionsByVisitorsA` и `transactionsByVisitorsB`, с информацией о количестве заказов по пользователям групп А и В:***"
   ]
  },
  {
   "cell_type": "code",
   "execution_count": 34,
   "id": "99ff8bf8-217f-4d78-9346-f20884f939ab",
   "metadata": {},
   "outputs": [
    {
     "name": "stdout",
     "output_type": "stream",
     "text": [
      "   visitorId  transactions\n",
      "0   11685486             1\n",
      "1   54447517             1\n",
      "2   66685450             1\n",
      "3   78758296             1\n",
      "4   85103373             1\n",
      "\n",
      "   visitorId  transactions\n",
      "0    5114589             1\n",
      "1    6958315             1\n",
      "2   39475350             1\n",
      "3   47206413             1\n",
      "4   48147722             1\n"
     ]
    }
   ],
   "source": [
    "transactionsByVisitorsA = (\n",
    "    orders[orders['group'] == 'A'].groupby('visitorId', as_index=False).agg({'transactionId': 'nunique'})\n",
    ")\n",
    "\n",
    "transactionsByVisitorsA.columns = ['visitorId', 'transactions']\n",
    "\n",
    "transactionsByVisitorsB = (\n",
    "    orders[orders['group'] == 'B'].groupby('visitorId', as_index=False).agg({'transactionId': 'nunique'})\n",
    ")\n",
    "\n",
    "transactionsByVisitorsB.columns = ['visitorId', 'transactions']\n",
    "\n",
    "print(transactionsByVisitorsA.head())\n",
    "print()\n",
    "print(transactionsByVisitorsB.head())"
   ]
  },
  {
   "cell_type": "markdown",
   "id": "f789ad4c-3ea6-438b-8a9a-50c5cf370e85",
   "metadata": {},
   "source": [
    "***Объявим переменные `sampleA` и `sampleB`, в которых пользователям с заказами соответствует число заказов пользователя, а пользователям без заказов — нули:*** "
   ]
  },
  {
   "cell_type": "code",
   "execution_count": 35,
   "id": "6dfa0e96-d9c7-4761-8fe5-1d966d546185",
   "metadata": {},
   "outputs": [],
   "source": [
    "sampleA = pd.concat(\n",
    "    [\n",
    "        transactionsByVisitorsA['transactions'],\n",
    "        pd.Series(\n",
    "            0,\n",
    "            index=np.arange(\n",
    "                cumulativeDataA['visitors'].sum() - len(transactionsByVisitorsA['transactions'])\n",
    "            ),\n",
    "            name='transactions',\n",
    "        ),\n",
    "    ],\n",
    "    axis=0,\n",
    ")\n",
    "\n",
    "sampleB = pd.concat(\n",
    "    [\n",
    "        transactionsByVisitorsB['transactions'],\n",
    "        pd.Series(\n",
    "            0,\n",
    "            index=np.arange(\n",
    "                cumulativeDataB['visitors'].sum() - len(transactionsByVisitorsB['transactions'])\n",
    "            ),\n",
    "            name='transactions',\n",
    "        ),\n",
    "    ],\n",
    "    axis=0,\n",
    ")"
   ]
  },
  {
   "cell_type": "markdown",
   "id": "7a7c0f3c-21dc-427b-8e61-c8d1405dd9c7",
   "metadata": {},
   "source": [
    "***Посчитаем статистическую значимость различия среднего количества заказов по результатам теста с помощью теста Манна-Уитни, выведем p-value для сравнения среднего между группами, а также вычислим относительное различие в среднем между группами:***"
   ]
  },
  {
   "cell_type": "code",
   "execution_count": 36,
   "id": "02cd2e34-a305-4734-a8e8-3f8de9bf2a49",
   "metadata": {},
   "outputs": [
    {
     "name": "stdout",
     "output_type": "stream",
     "text": [
      "p-value: 0.00958\n",
      "Относительное различие между группами:0.166\n"
     ]
    }
   ],
   "source": [
    "print(f'p-value: '\"{0:.5f}\".format(stats.mannwhitneyu(sampleA, sampleB)[1]))\n",
    "print(f'Относительное различие между группами:'\"{0:.3f}\".format(sampleB.mean() / sampleA.mean() - 1))"
   ]
  },
  {
   "cell_type": "markdown",
   "id": "58d9e7b4-189c-4f4a-97f3-d625bd8867fb",
   "metadata": {},
   "source": [
    "***`Вывод`:*** <br>\n",
    "По `сырым данным` p-value меньше 0.05, значит, отвергаем нулевую гипотезу в пользу альтернативной: ***есть различия в количестве заказов между группами А и В***. При этом относительный выигрыш группы В в числе заказов равен 16.6%"
   ]
  },
  {
   "cell_type": "markdown",
   "id": "349f82d8-9651-4ad9-98d9-534bbfa37486",
   "metadata": {},
   "source": [
    "## 2.1.11 Расчет статистической значимости различий в среднем чеке заказа между группами по \"сырым\" данным"
   ]
  },
  {
   "cell_type": "markdown",
   "id": "89194662-3ef8-471e-846b-fc4992074542",
   "metadata": {},
   "source": [
    "***Посчитаем статистическую значимость различий в среднем чеке между группами по «сырым» данным — без удаления аномальных пользователей.\n",
    "Сформулируем гипотезы. Нулевая: различий в среднем количестве заказов между группами нет. Альтернативная: различия в среднем между группами есть.***\n",
    "\n",
    "***Проведем те же действия, что были представлены в предыдущем пункте, со средними чеками групп:***"
   ]
  },
  {
   "cell_type": "code",
   "execution_count": 37,
   "id": "9e30455b-5903-4834-85d8-ccb2ebb2039d",
   "metadata": {},
   "outputs": [
    {
     "name": "stdout",
     "output_type": "stream",
     "text": [
      "p-value:0.829\n",
      "Относительное различие между группами:0.287\n"
     ]
    }
   ],
   "source": [
    "print(f'p-value:'\"{0:.3f}\".format(stats.mannwhitneyu(orders[orders['group']=='A']['revenue'], orders[orders['group']=='B']['revenue'])[1]))\n",
    "print('Относительное различие между группами:'\"{0:.3f}\".format(orders[orders['group']=='B']['revenue'].mean()/orders[orders['group']=='A']['revenue'].mean()-1)) "
   ]
  },
  {
   "cell_type": "markdown",
   "id": "c2005747-02f2-4140-8acb-55f2acf32bbc",
   "metadata": {},
   "source": [
    "***`Вывод`:*** <br>\n",
    "По `сырым данным` p-value > 0.05, следовательно причин отвергать нулевую гипотезу и считать, что в среднем чеке есть различия, нет. При этом полученное относительное различие между группами (25.9% в пользу группы В) ***не является статистически значимым***."
   ]
  },
  {
   "cell_type": "markdown",
   "id": "76c01bde-7996-4eed-896b-8473441b31a1",
   "metadata": {},
   "source": [
    "## 2.1.12 Расчет статистической значимости различий в среднем количестве заказов на посетителя между группами по \"очищенным\" данным"
   ]
  },
  {
   "cell_type": "markdown",
   "id": "4a48890e-8035-495f-a6e4-98799c562dcb",
   "metadata": {},
   "source": [
    "***За аномальных пользователей были приняты те, кто `совершил от 3 заказов` или `совершил заказ дороже 35 500 рублей`. Сделаем срезы пользователей с числом заказом больше 2 - `visitorsWithManyTransactions` и пользователей, совершивших заказы дороже 35 500 рублей - `visitorsWithBigTransactions`. Объединим их в таблице `abnormalUsers`:***"
   ]
  },
  {
   "cell_type": "code",
   "execution_count": 38,
   "id": "efff111a-3ef9-465a-88dd-9b5bc1871d33",
   "metadata": {},
   "outputs": [
    {
     "name": "stdout",
     "output_type": "stream",
     "text": [
      "1099    148427295\n",
      "33      249864742\n",
      "684     358944393\n",
      "648     382846391\n",
      "58      611059232\n",
      "Name: visitorId, dtype: int64\n",
      "38\n"
     ]
    }
   ],
   "source": [
    "visitorsWithManyTransactions = pd.concat(\n",
    "    [\n",
    "        transactionsByVisitorsA[transactionsByVisitorsA['transactions'] > 2]['visitorId'],\n",
    "        transactionsByVisitorsB[transactionsByVisitorsB['transactions'] > 2]['visitorId'],\n",
    "    ],\n",
    "    axis=0,\n",
    ")\n",
    "revenue_lim = np.percentile(orders['revenue'], 97)\n",
    "visitorsWithBigTransactions = orders[orders['revenue'] > revenue_lim]['visitorId']\n",
    "abnormalUsers = (\n",
    "    pd.concat([visitorsWithManyTransactions, visitorsWithBigTransactions], axis=0)\n",
    "    .drop_duplicates()\n",
    "    .sort_values()\n",
    ")\n",
    "print(abnormalUsers.head(5))\n",
    "print(abnormalUsers.shape[0]) "
   ]
  },
  {
   "cell_type": "markdown",
   "id": "720ef892-b762-41b7-a08a-05ef1a639283",
   "metadata": {},
   "source": [
    "***`Вывод`:*** <br>\n",
    "Был выявлено `38 аномальных пользователей`. Далее необходимо посмотреть по \"очищенным\" данным, как действия этих пользователей повлияли на результаты теста."
   ]
  },
  {
   "cell_type": "markdown",
   "id": "31deb1b2-649f-4f0a-8a96-7b636fcf63c0",
   "metadata": {},
   "source": [
    "***Рассчитаем статистическую значимость различий в среднем количестве заказов между группами теста по \"очищенным\" данным. Сначала создадим две выборки с отфильтрованными данными:***"
   ]
  },
  {
   "cell_type": "code",
   "execution_count": 39,
   "id": "69f8996d-064b-4196-877f-75a21af5c45b",
   "metadata": {},
   "outputs": [],
   "source": [
    "sampleAFiltered = pd.concat(\n",
    "    [\n",
    "        transactionsByVisitorsA[\n",
    "            np.logical_not(transactionsByVisitorsA['visitorId'].isin(abnormalUsers))\n",
    "        ]['transactions'],\n",
    "        pd.Series(\n",
    "            0,\n",
    "            index=np.arange(\n",
    "                cumulativeDataA['visitors'].sum() - len(transactionsByVisitorsA['transactions'])\n",
    "            ),\n",
    "            name='transactions',\n",
    "        ),\n",
    "    ],\n",
    "    axis=0,\n",
    ")\n",
    "\n",
    "sampleBFiltered = pd.concat(\n",
    "    [\n",
    "        transactionsByVisitorsB[\n",
    "            np.logical_not(transactionsByVisitorsB['visitorId'].isin(abnormalUsers))\n",
    "        ]['transactions'],\n",
    "        pd.Series(\n",
    "            0,\n",
    "            index=np.arange(\n",
    "                cumulativeDataB['visitors'].sum() - len(transactionsByVisitorsB['transactions'])\n",
    "            ),\n",
    "            name='transactions',\n",
    "        ),\n",
    "    ],\n",
    "    axis=0,\n",
    ")\n",
    "\n"
   ]
  },
  {
   "cell_type": "markdown",
   "id": "600d4bef-3fbd-4a15-bf2f-a474ac3977c9",
   "metadata": {},
   "source": [
    "***Затем применим к ним статистический критерий Манна-Уитни:***"
   ]
  },
  {
   "cell_type": "code",
   "execution_count": 40,
   "id": "0a040381-7f9f-490e-94a4-d7cb08a841db",
   "metadata": {},
   "outputs": [
    {
     "name": "stdout",
     "output_type": "stream",
     "text": [
      "p-value:0.005\n",
      "Относительное различие между группами:0.203\n"
     ]
    }
   ],
   "source": [
    "print(f'p-value:'\"{0:.3f}\".format(stats.mannwhitneyu(sampleAFiltered, sampleBFiltered)[1]))\n",
    "print(f'Относительное различие между группами:'\"{0:.3f}\".format(sampleBFiltered.mean()/sampleAFiltered.mean()-1)) "
   ]
  },
  {
   "cell_type": "markdown",
   "id": "94681e61-8149-4ad2-8afa-140d0cbc62a5",
   "metadata": {},
   "source": [
    "***`Вывод`:*** <br>\n",
    "По `очищенным данным` p-value меньше 0.05, значит, отвергаем нулевую гипотезу в пользу альтернативной: ***есть различия в количестве заказов между группами А и В***. При этом относительный выигрыш группы В в числе заказов равен 20.3%"
   ]
  },
  {
   "cell_type": "markdown",
   "id": "bc156624-58a4-4155-932c-aa7412a33649",
   "metadata": {},
   "source": [
    "## 2.1.13 Расчет статистической значимости различий в среднем чеке заказа между группами по \"очищенным\" данным"
   ]
  },
  {
   "cell_type": "code",
   "execution_count": 41,
   "id": "7d3be866-47f5-44ff-a99b-49a5dbe93f33",
   "metadata": {},
   "outputs": [
    {
     "name": "stdout",
     "output_type": "stream",
     "text": [
      "p-value:0.918\n",
      "Относительное различие между группами:0.016\n"
     ]
    }
   ],
   "source": [
    "print(f'p-value:'\n",
    "    \"{0:.3f}\".format(\n",
    "        stats.mannwhitneyu(\n",
    "            orders[\n",
    "                np.logical_and(\n",
    "                    orders['group'] == 'A',\n",
    "                    np.logical_not(orders['visitorId'].isin(abnormalUsers)),\n",
    "                )\n",
    "            ]['revenue'],\n",
    "            orders[\n",
    "                np.logical_and(\n",
    "                    orders['group'] == 'B',\n",
    "                    np.logical_not(orders['visitorId'].isin(abnormalUsers)),\n",
    "                )\n",
    "            ]['revenue'],\n",
    "        )[1]\n",
    "    )\n",
    ")\n",
    "\n",
    "print(f'Относительное различие между группами:'\n",
    "    \"{0:.3f}\".format(\n",
    "        orders[\n",
    "            np.logical_and(\n",
    "                orders['group'] == 'B',\n",
    "                np.logical_not(orders['visitorId'].isin(abnormalUsers)),\n",
    "            )\n",
    "        ]['revenue'].mean()\n",
    "        / orders[\n",
    "            np.logical_and(\n",
    "                orders['group'] == 'A',\n",
    "                np.logical_not(orders['visitorId'].isin(abnormalUsers)),\n",
    "            )\n",
    "        ]['revenue'].mean()\n",
    "        - 1\n",
    "    )\n",
    ") "
   ]
  },
  {
   "cell_type": "markdown",
   "id": "2b6fb741-36a5-4d69-bcfb-230ee673c0e2",
   "metadata": {},
   "source": [
    "***`Вывод`:*** <br>\n",
    "По `очищенным данным` p-value > 0.05, следовательно причин отвергать нулевую гипотезу и считать, что в среднем чеке есть различия, нет. Относительное различие между группами уменьшилось до **1,6%**, что не является статистически значимой величиной. Следовательно, предположение о том, что аномальные данные сильно влияли на результаты теста, были верны, и аномалии необходимо было убрать."
   ]
  },
  {
   "cell_type": "markdown",
   "id": "6c7efafc-86c4-454e-ad5b-6194b299d27a",
   "metadata": {},
   "source": [
    "## 2.1.14 Решение по результатам теста"
   ]
  },
  {
   "cell_type": "markdown",
   "id": "d3d09ee6-9963-4c08-ad9c-5fabf8e61e35",
   "metadata": {},
   "source": [
    "***На данном этапе можно прийти к следующим заключениям:*** <br>\n",
    "* Присутствует статистически значимое различие по среднему количеству заказов между группами по \"сырым\" и отфильтрованным данным, следовательно, результаты группы В улучшились по сравнению с группой А;\n",
    "* Отсутствует статистически значимое различие по среднему чеку между группами и по \"сырым\" данным, и по отфильтрованным;\n",
    "* График различия среднего количества заказов между группами показывает, что результаты группы В лучше группы А, и на данном этапе тестирования улучшение достигает ~18%;\n",
    "* График различия среднего чека показывает рост группы В относительно группы А последние две недели тестирования, на данный момент рост достигает ~30%. Однако график сильно колеблется, главным образом из-за наличия аномалий, поэтому выводы на его основе делать нельзя. <br>\n",
    "\n",
    "В связи с вышеуказанными заключениями, можно сделать вывод о возможности **остановить тест и зафиксировать победу группы В**, а также перейти к тестированию следующей гипотезы."
   ]
  }
 ],
 "metadata": {
  "ExecuteTimeLog": [
   {
    "duration": 1602,
    "start_time": "2024-04-01T07:55:40.541Z"
   },
   {
    "duration": 4,
    "start_time": "2024-04-01T07:55:42.145Z"
   },
   {
    "duration": 23,
    "start_time": "2024-04-01T07:55:42.150Z"
   },
   {
    "duration": 16,
    "start_time": "2024-04-01T07:55:42.175Z"
   },
   {
    "duration": 22,
    "start_time": "2024-04-01T07:55:42.192Z"
   },
   {
    "duration": 40,
    "start_time": "2024-04-01T07:55:42.215Z"
   },
   {
    "duration": 24,
    "start_time": "2024-04-01T07:55:42.257Z"
   },
   {
    "duration": 192,
    "start_time": "2024-04-01T07:55:42.283Z"
   },
   {
    "duration": 126,
    "start_time": "2024-04-01T07:55:42.477Z"
   },
   {
    "duration": 11,
    "start_time": "2024-04-01T07:55:42.606Z"
   },
   {
    "duration": 40,
    "start_time": "2024-04-01T07:55:42.618Z"
   },
   {
    "duration": 323,
    "start_time": "2024-04-01T07:55:42.660Z"
   },
   {
    "duration": 240,
    "start_time": "2024-04-01T07:55:42.984Z"
   },
   {
    "duration": 7,
    "start_time": "2024-04-01T07:55:43.225Z"
   },
   {
    "duration": 374,
    "start_time": "2024-04-01T07:55:43.233Z"
   },
   {
    "duration": 6,
    "start_time": "2024-04-01T07:55:43.609Z"
   },
   {
    "duration": 276,
    "start_time": "2024-04-01T07:55:43.616Z"
   },
   {
    "duration": 8,
    "start_time": "2024-04-01T07:55:43.893Z"
   },
   {
    "duration": 371,
    "start_time": "2024-04-01T07:55:43.902Z"
   },
   {
    "duration": 9,
    "start_time": "2024-04-01T07:55:44.275Z"
   },
   {
    "duration": 161,
    "start_time": "2024-04-01T07:55:44.285Z"
   },
   {
    "duration": 7,
    "start_time": "2024-04-01T07:55:44.447Z"
   },
   {
    "duration": 178,
    "start_time": "2024-04-01T07:55:44.465Z"
   },
   {
    "duration": 3,
    "start_time": "2024-04-01T07:55:44.645Z"
   },
   {
    "duration": 26,
    "start_time": "2024-04-01T07:55:44.650Z"
   },
   {
    "duration": 19,
    "start_time": "2024-04-01T07:55:44.678Z"
   },
   {
    "duration": 417,
    "start_time": "2024-04-01T07:55:44.698Z"
   },
   {
    "duration": 10,
    "start_time": "2024-04-01T07:55:45.119Z"
   },
   {
    "duration": 38,
    "start_time": "2024-04-01T07:55:45.131Z"
   },
   {
    "duration": 31,
    "start_time": "2024-04-01T07:55:45.171Z"
   },
   {
    "duration": 423,
    "start_time": "2024-04-01T07:55:45.204Z"
   },
   {
    "duration": 15,
    "start_time": "2024-04-01T07:55:45.628Z"
   },
   {
    "duration": 54,
    "start_time": "2024-04-01T13:49:23.199Z"
   },
   {
    "duration": 1471,
    "start_time": "2024-04-02T09:15:20.557Z"
   },
   {
    "duration": 225,
    "start_time": "2024-04-02T09:15:22.030Z"
   },
   {
    "duration": 4,
    "start_time": "2024-04-02T09:15:22.257Z"
   },
   {
    "duration": 39,
    "start_time": "2024-04-02T09:15:22.263Z"
   },
   {
    "duration": 8,
    "start_time": "2024-04-02T09:15:22.304Z"
   },
   {
    "duration": 13,
    "start_time": "2024-04-02T09:15:22.314Z"
   },
   {
    "duration": 38,
    "start_time": "2024-04-02T09:15:22.329Z"
   },
   {
    "duration": 7,
    "start_time": "2024-04-02T09:15:22.369Z"
   },
   {
    "duration": 177,
    "start_time": "2024-04-02T09:15:22.377Z"
   },
   {
    "duration": 135,
    "start_time": "2024-04-02T09:15:22.557Z"
   },
   {
    "duration": 10,
    "start_time": "2024-04-02T09:15:22.694Z"
   },
   {
    "duration": 38,
    "start_time": "2024-04-02T09:15:22.706Z"
   },
   {
    "duration": 366,
    "start_time": "2024-04-02T09:15:22.745Z"
   },
   {
    "duration": 272,
    "start_time": "2024-04-02T09:15:23.113Z"
   },
   {
    "duration": 6,
    "start_time": "2024-04-02T09:15:23.387Z"
   },
   {
    "duration": 436,
    "start_time": "2024-04-02T09:15:23.394Z"
   },
   {
    "duration": 7,
    "start_time": "2024-04-02T09:15:23.832Z"
   },
   {
    "duration": 318,
    "start_time": "2024-04-02T09:15:23.841Z"
   },
   {
    "duration": 18,
    "start_time": "2024-04-02T09:15:24.161Z"
   },
   {
    "duration": 367,
    "start_time": "2024-04-02T09:15:24.181Z"
   },
   {
    "duration": 9,
    "start_time": "2024-04-02T09:15:24.549Z"
   },
   {
    "duration": 182,
    "start_time": "2024-04-02T09:15:24.560Z"
   },
   {
    "duration": 7,
    "start_time": "2024-04-02T09:15:24.744Z"
   },
   {
    "duration": 200,
    "start_time": "2024-04-02T09:15:24.752Z"
   },
   {
    "duration": 5,
    "start_time": "2024-04-02T09:15:24.953Z"
   },
   {
    "duration": 26,
    "start_time": "2024-04-02T09:15:24.959Z"
   },
   {
    "duration": 21,
    "start_time": "2024-04-02T09:15:24.987Z"
   },
   {
    "duration": 464,
    "start_time": "2024-04-02T09:15:25.012Z"
   },
   {
    "duration": 10,
    "start_time": "2024-04-02T09:15:25.478Z"
   },
   {
    "duration": 9,
    "start_time": "2024-04-02T09:15:25.490Z"
   },
   {
    "duration": 29,
    "start_time": "2024-04-02T09:15:25.501Z"
   },
   {
    "duration": 447,
    "start_time": "2024-04-02T09:15:25.531Z"
   },
   {
    "duration": 14,
    "start_time": "2024-04-02T09:15:25.980Z"
   },
   {
    "duration": 13,
    "start_time": "2024-04-02T10:28:30.505Z"
   },
   {
    "duration": 11,
    "start_time": "2024-04-02T10:28:59.656Z"
   },
   {
    "duration": 6,
    "start_time": "2024-04-02T10:34:03.129Z"
   },
   {
    "duration": 16,
    "start_time": "2024-04-02T10:40:29.154Z"
   },
   {
    "duration": 8,
    "start_time": "2024-04-02T10:40:40.001Z"
   },
   {
    "duration": 6,
    "start_time": "2024-04-02T10:40:55.161Z"
   },
   {
    "duration": 120,
    "start_time": "2024-04-02T10:53:13.918Z"
   },
   {
    "duration": 38,
    "start_time": "2024-04-02T10:59:55.082Z"
   },
   {
    "duration": 10,
    "start_time": "2024-04-02T11:00:05.248Z"
   },
   {
    "duration": 25,
    "start_time": "2024-04-02T11:02:11.046Z"
   },
   {
    "duration": 17,
    "start_time": "2024-04-02T11:02:26.358Z"
   },
   {
    "duration": 13,
    "start_time": "2024-04-02T11:04:57.205Z"
   },
   {
    "duration": 5,
    "start_time": "2024-04-02T11:05:06.103Z"
   },
   {
    "duration": 5,
    "start_time": "2024-04-02T11:06:59.908Z"
   },
   {
    "duration": 5,
    "start_time": "2024-04-02T11:07:17.371Z"
   },
   {
    "duration": 14,
    "start_time": "2024-04-02T11:07:22.465Z"
   },
   {
    "duration": 18,
    "start_time": "2024-04-02T11:10:22.057Z"
   },
   {
    "duration": 11,
    "start_time": "2024-04-02T11:10:43.454Z"
   },
   {
    "duration": 16,
    "start_time": "2024-04-02T11:10:51.126Z"
   },
   {
    "duration": 10,
    "start_time": "2024-04-02T11:12:58.831Z"
   },
   {
    "duration": 17,
    "start_time": "2024-04-02T11:13:05.907Z"
   },
   {
    "duration": 9,
    "start_time": "2024-04-02T11:13:21.158Z"
   },
   {
    "duration": 23,
    "start_time": "2024-04-02T11:13:27.589Z"
   },
   {
    "duration": 20,
    "start_time": "2024-04-02T11:14:03.452Z"
   },
   {
    "duration": 15,
    "start_time": "2024-04-02T11:14:10.894Z"
   },
   {
    "duration": 17,
    "start_time": "2024-04-02T11:14:16.861Z"
   },
   {
    "duration": 12,
    "start_time": "2024-04-02T11:15:04.442Z"
   },
   {
    "duration": 17,
    "start_time": "2024-04-02T11:15:12.497Z"
   },
   {
    "duration": 18,
    "start_time": "2024-04-02T11:16:26.501Z"
   },
   {
    "duration": 18,
    "start_time": "2024-04-02T11:16:54.661Z"
   },
   {
    "duration": 16,
    "start_time": "2024-04-02T11:17:10.227Z"
   },
   {
    "duration": 6,
    "start_time": "2024-04-02T11:17:17.968Z"
   },
   {
    "duration": 16,
    "start_time": "2024-04-02T11:17:25.544Z"
   },
   {
    "duration": 10,
    "start_time": "2024-04-02T11:21:34.866Z"
   },
   {
    "duration": 13,
    "start_time": "2024-04-02T11:22:29.865Z"
   },
   {
    "duration": 16,
    "start_time": "2024-04-02T11:22:52.676Z"
   },
   {
    "duration": 13,
    "start_time": "2024-04-02T11:23:00.619Z"
   },
   {
    "duration": 14,
    "start_time": "2024-04-02T11:23:19.229Z"
   },
   {
    "duration": 15,
    "start_time": "2024-04-02T11:24:08.881Z"
   },
   {
    "duration": 13,
    "start_time": "2024-04-02T11:24:19.516Z"
   },
   {
    "duration": 10,
    "start_time": "2024-04-02T11:24:42.716Z"
   },
   {
    "duration": 14,
    "start_time": "2024-04-02T11:26:00.006Z"
   },
   {
    "duration": 10,
    "start_time": "2024-04-02T11:29:06.027Z"
   },
   {
    "duration": 1567,
    "start_time": "2024-04-02T11:32:23.219Z"
   },
   {
    "duration": 1631,
    "start_time": "2024-04-02T11:32:35.776Z"
   },
   {
    "duration": 10,
    "start_time": "2024-04-02T11:32:48.971Z"
   },
   {
    "duration": 1158,
    "start_time": "2024-04-02T11:32:57.115Z"
   },
   {
    "duration": 78,
    "start_time": "2024-04-02T11:32:58.275Z"
   },
   {
    "duration": 4,
    "start_time": "2024-04-02T11:32:58.355Z"
   },
   {
    "duration": 41,
    "start_time": "2024-04-02T11:32:58.361Z"
   },
   {
    "duration": 6,
    "start_time": "2024-04-02T11:32:58.404Z"
   },
   {
    "duration": 26,
    "start_time": "2024-04-02T11:32:58.412Z"
   },
   {
    "duration": 34,
    "start_time": "2024-04-02T11:32:58.440Z"
   },
   {
    "duration": 19,
    "start_time": "2024-04-02T11:32:58.476Z"
   },
   {
    "duration": 25,
    "start_time": "2024-04-02T11:32:58.497Z"
   },
   {
    "duration": 25,
    "start_time": "2024-04-02T11:32:58.525Z"
   },
   {
    "duration": 26,
    "start_time": "2024-04-02T11:32:58.552Z"
   },
   {
    "duration": 27,
    "start_time": "2024-04-02T11:32:58.579Z"
   },
   {
    "duration": 28,
    "start_time": "2024-04-02T11:32:58.608Z"
   },
   {
    "duration": 23,
    "start_time": "2024-04-02T11:32:58.638Z"
   },
   {
    "duration": 21,
    "start_time": "2024-04-02T11:32:58.663Z"
   },
   {
    "duration": 5,
    "start_time": "2024-04-02T11:32:58.685Z"
   },
   {
    "duration": 174,
    "start_time": "2024-04-02T11:32:58.692Z"
   },
   {
    "duration": 129,
    "start_time": "2024-04-02T11:32:58.867Z"
   },
   {
    "duration": 9,
    "start_time": "2024-04-02T11:32:58.998Z"
   },
   {
    "duration": 15,
    "start_time": "2024-04-02T11:32:59.009Z"
   },
   {
    "duration": 359,
    "start_time": "2024-04-02T11:32:59.026Z"
   },
   {
    "duration": 270,
    "start_time": "2024-04-02T11:32:59.386Z"
   },
   {
    "duration": 16,
    "start_time": "2024-04-02T11:32:59.657Z"
   },
   {
    "duration": 339,
    "start_time": "2024-04-02T11:32:59.674Z"
   },
   {
    "duration": 6,
    "start_time": "2024-04-02T11:33:00.015Z"
   },
   {
    "duration": 300,
    "start_time": "2024-04-02T11:33:00.022Z"
   },
   {
    "duration": 8,
    "start_time": "2024-04-02T11:33:00.324Z"
   },
   {
    "duration": 391,
    "start_time": "2024-04-02T11:33:00.335Z"
   },
   {
    "duration": 10,
    "start_time": "2024-04-02T11:33:00.727Z"
   },
   {
    "duration": 230,
    "start_time": "2024-04-02T11:33:00.738Z"
   },
   {
    "duration": 7,
    "start_time": "2024-04-02T11:33:00.970Z"
   },
   {
    "duration": 278,
    "start_time": "2024-04-02T11:33:00.978Z"
   },
   {
    "duration": 4,
    "start_time": "2024-04-02T11:33:01.258Z"
   },
   {
    "duration": 115,
    "start_time": "2024-04-02T11:33:01.273Z"
   },
   {
    "duration": 111,
    "start_time": "2024-04-02T11:33:01.390Z"
   },
   {
    "duration": 495,
    "start_time": "2024-04-02T11:33:01.503Z"
   },
   {
    "duration": 92,
    "start_time": "2024-04-02T11:33:01.999Z"
   },
   {
    "duration": 62,
    "start_time": "2024-04-02T11:33:02.092Z"
   },
   {
    "duration": 66,
    "start_time": "2024-04-02T11:33:02.156Z"
   },
   {
    "duration": 539,
    "start_time": "2024-04-02T11:33:02.224Z"
   },
   {
    "duration": 18,
    "start_time": "2024-04-02T11:33:02.765Z"
   },
   {
    "duration": 369,
    "start_time": "2024-04-02T11:35:07.790Z"
   },
   {
    "duration": 7,
    "start_time": "2024-04-02T11:35:29.593Z"
   },
   {
    "duration": 5,
    "start_time": "2024-04-02T11:40:04.732Z"
   },
   {
    "duration": 8,
    "start_time": "2024-04-02T11:41:35.840Z"
   },
   {
    "duration": 4,
    "start_time": "2024-04-02T11:42:24.564Z"
   },
   {
    "duration": 1148,
    "start_time": "2024-04-02T11:54:19.429Z"
   },
   {
    "duration": 78,
    "start_time": "2024-04-02T11:54:20.578Z"
   },
   {
    "duration": 4,
    "start_time": "2024-04-02T11:54:20.658Z"
   },
   {
    "duration": 17,
    "start_time": "2024-04-02T11:54:20.664Z"
   },
   {
    "duration": 7,
    "start_time": "2024-04-02T11:54:20.683Z"
   },
   {
    "duration": 17,
    "start_time": "2024-04-02T11:54:20.691Z"
   },
   {
    "duration": 23,
    "start_time": "2024-04-02T11:54:20.710Z"
   },
   {
    "duration": 17,
    "start_time": "2024-04-02T11:54:20.735Z"
   },
   {
    "duration": 40,
    "start_time": "2024-04-02T11:54:20.754Z"
   },
   {
    "duration": 7,
    "start_time": "2024-04-02T11:54:20.796Z"
   },
   {
    "duration": 11,
    "start_time": "2024-04-02T11:54:20.805Z"
   },
   {
    "duration": 38,
    "start_time": "2024-04-02T11:54:20.818Z"
   },
   {
    "duration": 11,
    "start_time": "2024-04-02T11:54:20.857Z"
   },
   {
    "duration": 18,
    "start_time": "2024-04-02T11:54:20.870Z"
   },
   {
    "duration": 30,
    "start_time": "2024-04-02T11:54:20.889Z"
   },
   {
    "duration": 23,
    "start_time": "2024-04-02T11:54:20.921Z"
   },
   {
    "duration": 227,
    "start_time": "2024-04-02T11:54:20.946Z"
   },
   {
    "duration": 137,
    "start_time": "2024-04-02T11:54:21.175Z"
   },
   {
    "duration": 9,
    "start_time": "2024-04-02T11:54:21.314Z"
   },
   {
    "duration": 8,
    "start_time": "2024-04-02T11:54:21.325Z"
   },
   {
    "duration": 377,
    "start_time": "2024-04-02T11:54:21.334Z"
   },
   {
    "duration": 276,
    "start_time": "2024-04-02T11:54:21.713Z"
   },
   {
    "duration": 7,
    "start_time": "2024-04-02T11:54:21.994Z"
   },
   {
    "duration": 336,
    "start_time": "2024-04-02T11:54:22.003Z"
   },
   {
    "duration": 7,
    "start_time": "2024-04-02T11:54:22.341Z"
   },
   {
    "duration": 272,
    "start_time": "2024-04-02T11:54:22.350Z"
   },
   {
    "duration": 8,
    "start_time": "2024-04-02T11:54:22.624Z"
   },
   {
    "duration": 392,
    "start_time": "2024-04-02T11:54:22.634Z"
   },
   {
    "duration": 11,
    "start_time": "2024-04-02T11:54:23.028Z"
   },
   {
    "duration": 210,
    "start_time": "2024-04-02T11:54:23.041Z"
   },
   {
    "duration": 9,
    "start_time": "2024-04-02T11:54:23.253Z"
   },
   {
    "duration": 224,
    "start_time": "2024-04-02T11:54:23.274Z"
   },
   {
    "duration": 5,
    "start_time": "2024-04-02T11:54:23.500Z"
   },
   {
    "duration": 23,
    "start_time": "2024-04-02T11:54:23.507Z"
   },
   {
    "duration": 21,
    "start_time": "2024-04-02T11:54:23.532Z"
   },
   {
    "duration": 454,
    "start_time": "2024-04-02T11:54:23.555Z"
   },
   {
    "duration": 94,
    "start_time": "2024-04-02T11:54:24.011Z"
   },
   {
    "duration": 11,
    "start_time": "2024-04-02T11:54:24.108Z"
   },
   {
    "duration": 27,
    "start_time": "2024-04-02T11:54:24.120Z"
   },
   {
    "duration": 436,
    "start_time": "2024-04-02T11:54:24.149Z"
   },
   {
    "duration": 14,
    "start_time": "2024-04-02T11:54:24.587Z"
   },
   {
    "duration": 3877,
    "start_time": "2024-04-03T06:31:02.478Z"
   },
   {
    "duration": 235,
    "start_time": "2024-04-03T06:31:06.357Z"
   },
   {
    "duration": 3,
    "start_time": "2024-04-03T06:31:06.594Z"
   },
   {
    "duration": 15,
    "start_time": "2024-04-03T06:31:06.599Z"
   },
   {
    "duration": 6,
    "start_time": "2024-04-03T06:31:06.615Z"
   },
   {
    "duration": 7,
    "start_time": "2024-04-03T06:31:06.623Z"
   },
   {
    "duration": 18,
    "start_time": "2024-04-03T06:31:06.631Z"
   },
   {
    "duration": 16,
    "start_time": "2024-04-03T06:31:06.651Z"
   },
   {
    "duration": 14,
    "start_time": "2024-04-03T06:31:06.669Z"
   },
   {
    "duration": 7,
    "start_time": "2024-04-03T06:31:06.714Z"
   },
   {
    "duration": 14,
    "start_time": "2024-04-03T06:31:06.723Z"
   },
   {
    "duration": 14,
    "start_time": "2024-04-03T06:31:06.738Z"
   },
   {
    "duration": 10,
    "start_time": "2024-04-03T06:31:06.754Z"
   },
   {
    "duration": 15,
    "start_time": "2024-04-03T06:31:06.766Z"
   },
   {
    "duration": 42,
    "start_time": "2024-04-03T06:31:06.783Z"
   },
   {
    "duration": 7,
    "start_time": "2024-04-03T06:31:06.828Z"
   },
   {
    "duration": 185,
    "start_time": "2024-04-03T06:31:06.836Z"
   },
   {
    "duration": 118,
    "start_time": "2024-04-03T06:31:07.023Z"
   },
   {
    "duration": 10,
    "start_time": "2024-04-03T06:31:07.143Z"
   },
   {
    "duration": 11,
    "start_time": "2024-04-03T06:31:07.154Z"
   },
   {
    "duration": 341,
    "start_time": "2024-04-03T06:31:07.167Z"
   },
   {
    "duration": 246,
    "start_time": "2024-04-03T06:31:07.510Z"
   },
   {
    "duration": 5,
    "start_time": "2024-04-03T06:31:07.757Z"
   },
   {
    "duration": 418,
    "start_time": "2024-04-03T06:31:07.764Z"
   },
   {
    "duration": 7,
    "start_time": "2024-04-03T06:31:08.184Z"
   },
   {
    "duration": 270,
    "start_time": "2024-04-03T06:31:08.193Z"
   },
   {
    "duration": 8,
    "start_time": "2024-04-03T06:31:08.465Z"
   },
   {
    "duration": 366,
    "start_time": "2024-04-03T06:31:08.477Z"
   },
   {
    "duration": 11,
    "start_time": "2024-04-03T06:31:08.845Z"
   },
   {
    "duration": 200,
    "start_time": "2024-04-03T06:31:08.858Z"
   },
   {
    "duration": 8,
    "start_time": "2024-04-03T06:31:09.059Z"
   },
   {
    "duration": 189,
    "start_time": "2024-04-03T06:31:09.068Z"
   },
   {
    "duration": 4,
    "start_time": "2024-04-03T06:31:09.259Z"
   },
   {
    "duration": 15,
    "start_time": "2024-04-03T06:31:09.265Z"
   },
   {
    "duration": 40,
    "start_time": "2024-04-03T06:31:09.282Z"
   },
   {
    "duration": 433,
    "start_time": "2024-04-03T06:31:09.324Z"
   },
   {
    "duration": 91,
    "start_time": "2024-04-03T06:31:09.759Z"
   },
   {
    "duration": 18,
    "start_time": "2024-04-03T06:31:09.851Z"
   },
   {
    "duration": 18,
    "start_time": "2024-04-03T06:31:09.871Z"
   },
   {
    "duration": 400,
    "start_time": "2024-04-03T06:31:09.890Z"
   },
   {
    "duration": 13,
    "start_time": "2024-04-03T06:31:10.292Z"
   },
   {
    "duration": 1620,
    "start_time": "2024-04-03T06:31:54.395Z"
   },
   {
    "duration": 98,
    "start_time": "2024-04-03T06:31:56.017Z"
   },
   {
    "duration": 4,
    "start_time": "2024-04-03T06:31:56.117Z"
   },
   {
    "duration": 10,
    "start_time": "2024-04-03T06:31:56.122Z"
   },
   {
    "duration": 6,
    "start_time": "2024-04-03T06:31:56.135Z"
   },
   {
    "duration": 10,
    "start_time": "2024-04-03T06:31:56.142Z"
   },
   {
    "duration": 68,
    "start_time": "2024-04-03T06:31:56.154Z"
   },
   {
    "duration": 12,
    "start_time": "2024-04-03T06:31:56.224Z"
   },
   {
    "duration": 14,
    "start_time": "2024-04-03T06:31:56.238Z"
   },
   {
    "duration": 61,
    "start_time": "2024-04-03T06:31:56.253Z"
   },
   {
    "duration": 11,
    "start_time": "2024-04-03T06:31:56.316Z"
   },
   {
    "duration": 9,
    "start_time": "2024-04-03T06:31:56.328Z"
   },
   {
    "duration": 11,
    "start_time": "2024-04-03T06:31:56.338Z"
   },
   {
    "duration": 63,
    "start_time": "2024-04-03T06:31:56.353Z"
   },
   {
    "duration": 11,
    "start_time": "2024-04-03T06:31:56.417Z"
   },
   {
    "duration": 6,
    "start_time": "2024-04-03T06:31:56.429Z"
   },
   {
    "duration": 321,
    "start_time": "2024-04-03T06:31:56.437Z"
   },
   {
    "duration": 213,
    "start_time": "2024-04-03T06:31:56.815Z"
   },
   {
    "duration": 10,
    "start_time": "2024-04-03T06:31:57.029Z"
   },
   {
    "duration": 10,
    "start_time": "2024-04-03T06:31:57.040Z"
   },
   {
    "duration": 357,
    "start_time": "2024-04-03T06:31:57.052Z"
   },
   {
    "duration": 254,
    "start_time": "2024-04-03T06:31:57.414Z"
   },
   {
    "duration": 6,
    "start_time": "2024-04-03T06:31:57.670Z"
   },
   {
    "duration": 351,
    "start_time": "2024-04-03T06:31:57.678Z"
   },
   {
    "duration": 6,
    "start_time": "2024-04-03T06:31:58.031Z"
   },
   {
    "duration": 255,
    "start_time": "2024-04-03T06:31:58.039Z"
   },
   {
    "duration": 7,
    "start_time": "2024-04-03T06:31:58.296Z"
   },
   {
    "duration": 351,
    "start_time": "2024-04-03T06:31:58.305Z"
   },
   {
    "duration": 10,
    "start_time": "2024-04-03T06:31:58.658Z"
   },
   {
    "duration": 189,
    "start_time": "2024-04-03T06:31:58.670Z"
   },
   {
    "duration": 7,
    "start_time": "2024-04-03T06:31:58.861Z"
   },
   {
    "duration": 247,
    "start_time": "2024-04-03T06:31:58.870Z"
   },
   {
    "duration": 4,
    "start_time": "2024-04-03T06:31:59.118Z"
   },
   {
    "duration": 18,
    "start_time": "2024-04-03T06:31:59.124Z"
   },
   {
    "duration": 77,
    "start_time": "2024-04-03T06:31:59.144Z"
   },
   {
    "duration": 833,
    "start_time": "2024-04-03T06:31:59.223Z"
   },
   {
    "duration": 188,
    "start_time": "2024-04-03T06:32:00.058Z"
   },
   {
    "duration": 76,
    "start_time": "2024-04-03T06:32:00.248Z"
   },
   {
    "duration": 94,
    "start_time": "2024-04-03T06:32:00.326Z"
   },
   {
    "duration": 547,
    "start_time": "2024-04-03T06:32:00.422Z"
   },
   {
    "duration": 13,
    "start_time": "2024-04-03T06:32:00.973Z"
   }
  ],
  "kernelspec": {
   "display_name": "Python 3 (ipykernel)",
   "language": "python",
   "name": "python3"
  },
  "language_info": {
   "codemirror_mode": {
    "name": "ipython",
    "version": 3
   },
   "file_extension": ".py",
   "mimetype": "text/x-python",
   "name": "python",
   "nbconvert_exporter": "python",
   "pygments_lexer": "ipython3",
   "version": "3.9.18"
  },
  "toc": {
   "base_numbering": 1,
   "nav_menu": {},
   "number_sections": true,
   "sideBar": true,
   "skip_h1_title": true,
   "title_cell": "Table of Contents",
   "title_sidebar": "Contents",
   "toc_cell": false,
   "toc_position": {},
   "toc_section_display": true,
   "toc_window_display": true
  }
 },
 "nbformat": 4,
 "nbformat_minor": 5
}
